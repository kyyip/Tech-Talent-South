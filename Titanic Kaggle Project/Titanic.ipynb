{
 "cells": [
  {
   "cell_type": "markdown",
   "id": "a4aeb3cc",
   "metadata": {},
   "source": [
    "<b> This is a machine learning project for TTS where I took the famous Titanic dataset from Kaggle, performed some data analysis, and attempted to use XGBoost to predict the survivors of the Titanic using the given data. I, started by simply opening up the data as a Pandas DataFrame. https://www.kaggle.com/c/titanic/data </b>"
   ]
  },
  {
   "cell_type": "code",
   "execution_count": 2,
   "id": "5b1d94ea",
   "metadata": {},
   "outputs": [],
   "source": [
    "from xgboost import XGBClassifier\n",
    "import matplotlib.pyplot as plt\n",
    "import seaborn as sns\n",
    "import pandas as pd\n",
    "import numpy as np\n",
    "from sklearn.preprocessing import OneHotEncoder\n",
    "from sklearn.pipeline import Pipeline\n",
    "from sklearn.model_selection import train_test_split\n",
    "from sklearn.metrics import accuracy_score"
   ]
  },
  {
   "cell_type": "code",
   "execution_count": 3,
   "id": "12047d34",
   "metadata": {},
   "outputs": [
    {
     "data": {
      "text/plain": [
       "Index(['PassengerId', 'Survived', 'Pclass', 'Name', 'Sex', 'Age', 'SibSp',\n",
       "       'Parch', 'Ticket', 'Fare', 'Cabin', 'Embarked'],\n",
       "      dtype='object')"
      ]
     },
     "execution_count": 3,
     "metadata": {},
     "output_type": "execute_result"
    }
   ],
   "source": [
    "titanic = pd.read_csv('train.csv')\n",
    "test = pd.read_csv('test.csv')\n",
    "titanic.columns"
   ]
  },
  {
   "cell_type": "markdown",
   "id": "1ddedae3",
   "metadata": {},
   "source": [
    "I decided to drop two columns, \"Name\" and \"Ticket\" as they contained a lot of unique values and they don't seem to be useful indicators of survivorship."
   ]
  },
  {
   "cell_type": "code",
   "execution_count": 6,
   "id": "70a16ec5",
   "metadata": {},
   "outputs": [
    {
     "data": {
      "text/html": [
       "<div>\n",
       "<style scoped>\n",
       "    .dataframe tbody tr th:only-of-type {\n",
       "        vertical-align: middle;\n",
       "    }\n",
       "\n",
       "    .dataframe tbody tr th {\n",
       "        vertical-align: top;\n",
       "    }\n",
       "\n",
       "    .dataframe thead th {\n",
       "        text-align: right;\n",
       "    }\n",
       "</style>\n",
       "<table border=\"1\" class=\"dataframe\">\n",
       "  <thead>\n",
       "    <tr style=\"text-align: right;\">\n",
       "      <th></th>\n",
       "      <th>Survived</th>\n",
       "      <th>Pclass</th>\n",
       "      <th>Sex</th>\n",
       "      <th>Age</th>\n",
       "      <th>SibSp</th>\n",
       "      <th>Parch</th>\n",
       "      <th>Fare</th>\n",
       "      <th>Cabin</th>\n",
       "      <th>Embarked</th>\n",
       "    </tr>\n",
       "  </thead>\n",
       "  <tbody>\n",
       "    <tr>\n",
       "      <th>0</th>\n",
       "      <td>0</td>\n",
       "      <td>3</td>\n",
       "      <td>male</td>\n",
       "      <td>22.0</td>\n",
       "      <td>1</td>\n",
       "      <td>0</td>\n",
       "      <td>7.2500</td>\n",
       "      <td>NaN</td>\n",
       "      <td>S</td>\n",
       "    </tr>\n",
       "    <tr>\n",
       "      <th>1</th>\n",
       "      <td>1</td>\n",
       "      <td>1</td>\n",
       "      <td>female</td>\n",
       "      <td>38.0</td>\n",
       "      <td>1</td>\n",
       "      <td>0</td>\n",
       "      <td>71.2833</td>\n",
       "      <td>C85</td>\n",
       "      <td>C</td>\n",
       "    </tr>\n",
       "    <tr>\n",
       "      <th>2</th>\n",
       "      <td>1</td>\n",
       "      <td>3</td>\n",
       "      <td>female</td>\n",
       "      <td>26.0</td>\n",
       "      <td>0</td>\n",
       "      <td>0</td>\n",
       "      <td>7.9250</td>\n",
       "      <td>NaN</td>\n",
       "      <td>S</td>\n",
       "    </tr>\n",
       "    <tr>\n",
       "      <th>3</th>\n",
       "      <td>1</td>\n",
       "      <td>1</td>\n",
       "      <td>female</td>\n",
       "      <td>35.0</td>\n",
       "      <td>1</td>\n",
       "      <td>0</td>\n",
       "      <td>53.1000</td>\n",
       "      <td>C123</td>\n",
       "      <td>S</td>\n",
       "    </tr>\n",
       "    <tr>\n",
       "      <th>4</th>\n",
       "      <td>0</td>\n",
       "      <td>3</td>\n",
       "      <td>male</td>\n",
       "      <td>35.0</td>\n",
       "      <td>0</td>\n",
       "      <td>0</td>\n",
       "      <td>8.0500</td>\n",
       "      <td>NaN</td>\n",
       "      <td>S</td>\n",
       "    </tr>\n",
       "    <tr>\n",
       "      <th>...</th>\n",
       "      <td>...</td>\n",
       "      <td>...</td>\n",
       "      <td>...</td>\n",
       "      <td>...</td>\n",
       "      <td>...</td>\n",
       "      <td>...</td>\n",
       "      <td>...</td>\n",
       "      <td>...</td>\n",
       "      <td>...</td>\n",
       "    </tr>\n",
       "    <tr>\n",
       "      <th>886</th>\n",
       "      <td>0</td>\n",
       "      <td>2</td>\n",
       "      <td>male</td>\n",
       "      <td>27.0</td>\n",
       "      <td>0</td>\n",
       "      <td>0</td>\n",
       "      <td>13.0000</td>\n",
       "      <td>NaN</td>\n",
       "      <td>S</td>\n",
       "    </tr>\n",
       "    <tr>\n",
       "      <th>887</th>\n",
       "      <td>1</td>\n",
       "      <td>1</td>\n",
       "      <td>female</td>\n",
       "      <td>19.0</td>\n",
       "      <td>0</td>\n",
       "      <td>0</td>\n",
       "      <td>30.0000</td>\n",
       "      <td>B42</td>\n",
       "      <td>S</td>\n",
       "    </tr>\n",
       "    <tr>\n",
       "      <th>888</th>\n",
       "      <td>0</td>\n",
       "      <td>3</td>\n",
       "      <td>female</td>\n",
       "      <td>NaN</td>\n",
       "      <td>1</td>\n",
       "      <td>2</td>\n",
       "      <td>23.4500</td>\n",
       "      <td>NaN</td>\n",
       "      <td>S</td>\n",
       "    </tr>\n",
       "    <tr>\n",
       "      <th>889</th>\n",
       "      <td>1</td>\n",
       "      <td>1</td>\n",
       "      <td>male</td>\n",
       "      <td>26.0</td>\n",
       "      <td>0</td>\n",
       "      <td>0</td>\n",
       "      <td>30.0000</td>\n",
       "      <td>C148</td>\n",
       "      <td>C</td>\n",
       "    </tr>\n",
       "    <tr>\n",
       "      <th>890</th>\n",
       "      <td>0</td>\n",
       "      <td>3</td>\n",
       "      <td>male</td>\n",
       "      <td>32.0</td>\n",
       "      <td>0</td>\n",
       "      <td>0</td>\n",
       "      <td>7.7500</td>\n",
       "      <td>NaN</td>\n",
       "      <td>Q</td>\n",
       "    </tr>\n",
       "  </tbody>\n",
       "</table>\n",
       "<p>891 rows × 9 columns</p>\n",
       "</div>"
      ],
      "text/plain": [
       "     Survived  Pclass     Sex   Age  SibSp  Parch     Fare Cabin Embarked\n",
       "0           0       3    male  22.0      1      0   7.2500   NaN        S\n",
       "1           1       1  female  38.0      1      0  71.2833   C85        C\n",
       "2           1       3  female  26.0      0      0   7.9250   NaN        S\n",
       "3           1       1  female  35.0      1      0  53.1000  C123        S\n",
       "4           0       3    male  35.0      0      0   8.0500   NaN        S\n",
       "..        ...     ...     ...   ...    ...    ...      ...   ...      ...\n",
       "886         0       2    male  27.0      0      0  13.0000   NaN        S\n",
       "887         1       1  female  19.0      0      0  30.0000   B42        S\n",
       "888         0       3  female   NaN      1      2  23.4500   NaN        S\n",
       "889         1       1    male  26.0      0      0  30.0000  C148        C\n",
       "890         0       3    male  32.0      0      0   7.7500   NaN        Q\n",
       "\n",
       "[891 rows x 9 columns]"
      ]
     },
     "execution_count": 6,
     "metadata": {},
     "output_type": "execute_result"
    }
   ],
   "source": [
    "reduced = titanic.loc[:,['Survived', 'Pclass', 'Sex', 'Age', 'SibSp', 'Parch', 'Fare', 'Cabin', 'Embarked']]\n",
    "reduced_test = test.loc[:,['Pclass', 'Sex', 'Age', 'SibSp', 'Parch', 'Fare', 'Cabin', 'Embarked']]\n",
    "reduced"
   ]
  },
  {
   "cell_type": "markdown",
   "id": "e40ea46e",
   "metadata": {},
   "source": [
    "I then vectorized the \"Sex\" and \"Cabin\" columns by setting \"male\" as \"0\" and \"female\" to \"1\" for the former, and \"NaN\" to 0 and any other value to \"1\" for the latter. For the \"Cabin\" column, I assumed that if there was a missing value, that the specific passenger did not have a cabin on board the Titanic, and a sizable majority of passengers did not have a cabin."
   ]
  },
  {
   "cell_type": "code",
   "execution_count": 7,
   "id": "77cb9b71",
   "metadata": {},
   "outputs": [],
   "source": [
    "def vectorize(row):\n",
    "    \n",
    "    if type(row['Cabin']) == float:\n",
    "        row['Cabin'] = 0\n",
    "    else:\n",
    "        row['Cabin'] = 1\n",
    "        \n",
    "    if row['Sex'] == 'male':\n",
    "        row['Sex'] = 0\n",
    "    else:\n",
    "        row['Sex'] = 1    \n",
    "    return row\n",
    "\n",
    "reduced = reduced.apply(vectorize, axis=1)\n",
    "reduced_test = reduced_test.apply(vectorize, axis=1)"
   ]
  },
  {
   "cell_type": "markdown",
   "id": "202acc7c",
   "metadata": {},
   "source": [
    "I proceeded with some general data visualization. I used a heatmap to plot out the correlations for all the columns apart from the \"Embarked\" column to look for general trends. From the figure below, we see several indicators for increased survival. These include, being in a lower numbered passenger class, such as first class, being female, having a cabin, and being young. Columns that indicated wealth, such as \"PClass\", \"Cabin\" and \"Fare\" were heavily correlated with one another and can potentially be reduced to a single variable using PCA or some other variable reducing method. \"SibSp\" and \"Parch\", i.e. sibling/spouse and parent/child seemed to be the least informative variables."
   ]
  },
  {
   "cell_type": "code",
   "execution_count": 9,
   "id": "cb4f6aad",
   "metadata": {},
   "outputs": [
    {
     "data": {
      "image/png": "[encoded data removed]",
      "text/plain": [
       "<Figure size 720x576 with 2 Axes>"
      ]
     },
     "metadata": {
      "needs_background": "light"
     },
     "output_type": "display_data"
    }
   ],
   "source": [
    "corrs = reduced.corr()\n",
    "plt.figure(figsize=(10,8))\n",
    "sns.heatmap(corrs, cmap='bwr')\n",
    "plt.show()"
   ]
  },
  {
   "cell_type": "markdown",
   "id": "268dfb58",
   "metadata": {},
   "source": [
    "The \"Embarked\" column is the only categorical column we have left in the dataset, representing three ports, 'S', 'C', and 'Q' from where passengers boarded the Titanic. By plotting the distribution of passengers and survivorship for each of these ports, we see that 'C' port had the highest survivorship rate of over 50 percent, with 'S' port having the lowest survivorship rate of around 30 percent as well as the largest population of passengers."
   ]
  },
  {
   "cell_type": "code",
   "execution_count": 10,
   "id": "fac3ae50",
   "metadata": {},
   "outputs": [
    {
     "data": {
      "image/png": "[encoded data removed]",
      "text/plain": [
       "<Figure size 432x288 with 1 Axes>"
      ]
     },
     "metadata": {
      "needs_background": "light"
     },
     "output_type": "display_data"
    }
   ],
   "source": [
    "sns.histplot(data=reduced, x='Embarked', hue='Survived', multiple='dodge', shrink=0.9)\n",
    "plt.show()"
   ]
  },
  {
   "cell_type": "markdown",
   "id": "1ed9e705",
   "metadata": {},
   "source": [
    "To get a bit more information about the passengers from each port, we checked the distribution of passenger class and port and found that about half of the passengers from port 'C' were first class while about half of the passengers from port 'S' were in third class, with 'Q' passengers somewhat mirroring those in 'S' port in class distribution albeit with a much smaller population. If we check the passenger class survival distribution, we see that being in a higher passenger class increases your survival rate considerably thus confirming that being a passenger from 'C' port likely means you are of a higher passenger class and were thus more likely to survive."
   ]
  },
  {
   "cell_type": "code",
   "execution_count": 12,
   "id": "1d67d46a",
   "metadata": {},
   "outputs": [
    {
     "data": {
      "image/png": "[encoded data removed]",
      "text/plain": [
       "<Figure size 432x288 with 1 Axes>"
      ]
     },
     "metadata": {
      "needs_background": "light"
     },
     "output_type": "display_data"
    }
   ],
   "source": [
    "sns.histplot(data=reduced, x='Pclass', hue='Embarked', multiple='dodge', palette='Set2', discrete=True, shrink=0.9)\n",
    "plt.xticks([1,2,3])\n",
    "plt.show()"
   ]
  },
  {
   "cell_type": "code",
   "execution_count": 11,
   "id": "70565364",
   "metadata": {},
   "outputs": [
    {
     "data": {
      "image/png": "[encoded data removed]",
      "text/plain": [
       "<Figure size 432x288 with 1 Axes>"
      ]
     },
     "metadata": {
      "needs_background": "light"
     },
     "output_type": "display_data"
    }
   ],
   "source": [
    "sns.histplot(data=reduced, x='Pclass', hue='Survived', multiple='dodge', discrete=True, shrink=0.9)\n",
    "plt.xticks([1,2,3])\n",
    "plt.show()"
   ]
  },
  {
   "cell_type": "markdown",
   "id": "1fdfdddb",
   "metadata": {},
   "source": [
    "Looking at the age survivorship distribution, we see that most children under the age of 10 survived with almost every other age group having a less than 50% rate of survival. Curiously there is a very small survivor population very near the 80 age range."
   ]
  },
  {
   "cell_type": "code",
   "execution_count": 13,
   "id": "db1c5b38",
   "metadata": {},
   "outputs": [
    {
     "data": {
      "image/png": "[encoded data removed]",
      "text/plain": [
       "<Figure size 432x288 with 1 Axes>"
      ]
     },
     "metadata": {
      "needs_background": "light"
     },
     "output_type": "display_data"
    }
   ],
   "source": [
    "sns.histplot(data=reduced, x='Age', hue='Survived')\n",
    "plt.show()"
   ]
  },
  {
   "cell_type": "markdown",
   "id": "6060c915",
   "metadata": {},
   "source": [
    "Looking at the three wealth columns, \"PClass\", \"Fare\", and \"Cabin\", we see heavy correlations amongst these variables. The vast majority passengers with cabins came from first class, and fairly obviously, first class passengers tended to spend the most money. Second and third class passengers had surprisingly similar fare and cabin distributions."
   ]
  },
  {
   "cell_type": "code",
   "execution_count": 14,
   "id": "2676ddf0",
   "metadata": {},
   "outputs": [
    {
     "data": {
      "image/png": "[encoded data removed]",
      "text/plain": [
       "<Figure size 402.375x360 with 1 Axes>"
      ]
     },
     "metadata": {
      "needs_background": "light"
     },
     "output_type": "display_data"
    }
   ],
   "source": [
    "sns.catplot(data=reduced, x='Pclass', y='Fare', hue='Cabin', dodge=True, palette='mako')\n",
    "plt.show()"
   ]
  },
  {
   "cell_type": "markdown",
   "id": "33a612c4",
   "metadata": {},
   "source": [
    "Finally, is we check cabin ownership as an indicator for survival, we see that the majority of cabin owners survived, while the majority of those without a cabin died, and that over 75 percent of passengers did not have a cabin."
   ]
  },
  {
   "cell_type": "code",
   "execution_count": 15,
   "id": "04502943",
   "metadata": {},
   "outputs": [
    {
     "data": {
      "image/png": "[encoded data removed]",
      "text/plain": [
       "<Figure size 432x288 with 1 Axes>"
      ]
     },
     "metadata": {},
     "output_type": "display_data"
    }
   ],
   "source": [
    "cabin_groups = [len(reduced[(reduced['Cabin']==0) & (reduced['Survived']==0)]),\n",
    "                len(reduced[(reduced['Cabin']==1) & (reduced['Survived']==0)]),\n",
    "                len(reduced[(reduced['Cabin']==0) & (reduced['Survived']==1)]),\n",
    "                len(reduced[(reduced['Cabin']==1) & (reduced['Survived']==1)])]\n",
    "plt.pie(cabin_groups, labels = ['no cabin and dead', 'cabin and dead', 'no cabin and alive', 'cabin and alive'])\n",
    "plt.show()"
   ]
  },
  {
   "cell_type": "markdown",
   "id": "d71285bd",
   "metadata": {},
   "source": [
    "On to the machine learning section. The \"age\" and \"embarked\" columns contained a few missing values, and we therefore imputed those missing values using mean for age and mode for embarked. Extra columns indicating missing age/embarked values were appended to the dataframe."
   ]
  },
  {
   "cell_type": "code",
   "execution_count": 10,
   "id": "094de788",
   "metadata": {},
   "outputs": [],
   "source": [
    "mean_age = float(round(reduced.Age.mean()))\n",
    "mean_age_test = float(round(reduced_test.Age.mean()))\n",
    "mode_emb = reduced.Embarked.mode()\n",
    "mode_emb_test = reduced_test.Embarked.mode()\n",
    "age_missing = reduced.Age.isna()\n",
    "emb_missing = reduced.Embarked.isna()\n",
    "age_missing_test = reduced_test.Age.isna()\n",
    "emb_missing_test = reduced_test.Embarked.isna()\n",
    "\n",
    "\n",
    "def impute(row):\n",
    "    \n",
    "    if not row['Age'] > 0:\n",
    "        row['Age'] = mean_age\n",
    "    \n",
    "    if type(row['Embarked']) == float:\n",
    "        row['Embarked'] = 'S'\n",
    "    return row\n",
    "\n",
    "\n",
    "imputed_reduced = reduced.apply(impute, axis=1)\n",
    "imputed_reduced_test = reduced_test.apply(impute, axis=1)\n",
    "imputed_reduced['age_missing'] = age_missing\n",
    "imputed_reduced['emb_missing'] = emb_missing\n",
    "imputed_reduced_test['age_missing'] = age_missing_test\n",
    "imputed_reduced_test['emb_missing'] = emb_missing_test"
   ]
  },
  {
   "cell_type": "markdown",
   "id": "692eee7b",
   "metadata": {},
   "source": [
    "The \"embarked\" column was encoded using one hot encoding, which is fairly standard for this type of column."
   ]
  },
  {
   "cell_type": "code",
   "execution_count": 24,
   "id": "efe5088b",
   "metadata": {},
   "outputs": [],
   "source": [
    "encoder = OneHotEncoder(handle_unknown='ignore', sparse=False)\n",
    "encoder_test = OneHotEncoder(handle_unknown='ignore', sparse=False)\n",
    "encoded=pd.DataFrame(encoder.fit_transform(imputed_reduced.loc[:,['Embarked']]))\n",
    "oh_imputed_reduced = pd.concat([imputed_reduced.drop(['Embarked'], axis=1), encoded], axis=1)\n",
    "encoded_test=pd.DataFrame(encoder_test.fit_transform(imputed_reduced_test.loc[:,['Embarked']]))\n",
    "oh_imputed_reduced_test = pd.concat([imputed_reduced_test.drop(['Embarked'], axis=1), encoded_test], axis=1)"
   ]
  },
  {
   "cell_type": "markdown",
   "id": "6b47f932",
   "metadata": {},
   "source": [
    "Using an XGBClassifier, and splitting the training data into train/validation sets, we typically got a validation accuracy of ~80% or higher using a random 80/20 train/validation split."
   ]
  },
  {
   "cell_type": "code",
   "execution_count": 32,
   "id": "2cc47c79",
   "metadata": {},
   "outputs": [
    {
     "name": "stdout",
     "output_type": "stream",
     "text": [
      "0.8156424581005587\n"
     ]
    }
   ],
   "source": [
    "params={'objective': 'binary:logistic', 'max_depth':6, 'eval_metric':'logloss'}\n",
    "model = XGBClassifier(**params, use_label_encoder=False, n_estimators=100, learning_rate=0.2)\n",
    "X = oh_imputed_reduced.iloc[:,1:]\n",
    "y = oh_imputed_reduced['Survived']\n",
    "X_train, X_test, y_train, y_test = train_test_split(X, y, test_size=0.2)\n",
    "\n",
    "model.fit(X_train, y_train, early_stopping_rounds=5, eval_set=[(X_test, y_test)], verbose=False)\n",
    "prediction = model.predict(X_test)\n",
    "print(accuracy_score(prediction, y_test))"
   ]
  },
  {
   "cell_type": "markdown",
   "id": "c361eb0d",
   "metadata": {},
   "source": [
    "As a baseline benchmark, I made a simple survival_score function to roughly estimate survival for each passenger. The scoring is described by the function below, giving points for indicators such as being female, having a cabin, being of a wealthier passenger class, under the age of 10, and spending over 100 for the fee. Passengers with a score of 2 or higher are marked as survivors.  Through this rough scoring system, I achieved an accuracy of 76 percent, which is certainly better than flipping a coin, but not quite as good as the model produced using XGBoost. Incorporating the validation data into the training data would likely make the accuracy of the model even better."
   ]
  },
  {
   "cell_type": "code",
   "execution_count": 13,
   "id": "c8eb2db1",
   "metadata": {},
   "outputs": [],
   "source": [
    "def survival_score(row):\n",
    "    score = 0\n",
    "    score += row['Sex']\n",
    "    score += row['Cabin']\n",
    "    score += 3 - row['Pclass']\n",
    "    if row['Age'] <= 10:\n",
    "        score += 1\n",
    "    if row['Fare'] >= 100:\n",
    "        score += 1\n",
    "    return score"
   ]
  },
  {
   "cell_type": "markdown",
   "id": "fbf47b86",
   "metadata": {},
   "source": [
    "I finally plotted my naive survivor score survivorship distribution, and found that while the scoring metric was somewhat accurate, the distribution had some weird outliers. Those with a score of 3 had a lower survival rate than those with a score of 2, and no one with a score of 6 survived."
   ]
  },
  {
   "cell_type": "code",
   "execution_count": 16,
   "id": "9735e94d",
   "metadata": {},
   "outputs": [
    {
     "data": {
      "image/png": "[encoded data removed]",
      "text/plain": [
       "<Figure size 432x288 with 1 Axes>"
      ]
     },
     "metadata": {
      "needs_background": "light"
     },
     "output_type": "display_data"
    }
   ],
   "source": [
    "survival_scores = [survival_score(oh_imputed_reduced.iloc[i, :]) for i in range(len(oh_imputed_reduced))]\n",
    "survival_df = oh_imputed_reduced.loc[:, ['Survived']]\n",
    "survival_df['Score'] = survival_scores\n",
    "sns.histplot(data=survival_df, x='Score', hue='Survived', discrete=True, multiple='dodge', shrink=0.9)\n",
    "plt.show()"
   ]
  },
  {
   "cell_type": "code",
   "execution_count": 17,
   "id": "727e6064",
   "metadata": {},
   "outputs": [
    {
     "name": "stdout",
     "output_type": "stream",
     "text": [
      "0.7631874298540965\n"
     ]
    }
   ],
   "source": [
    "guess = len(survival_df[(survival_df['Score'] >= 2) & (survival_df['Survived'] == 1)]) + len(survival_df[(survival_df['Score'] < 2) & (survival_df['Survived'] == 0)])\n",
    "print(guess/len(survival_df))"
   ]
  },
  {
   "cell_type": "markdown",
   "id": "e5d75e39",
   "metadata": {},
   "source": [
    "Finally for fun, I ran a new model trained on the full train set to predict the survivors in the test dataset and submit the results to Kaggle. I got an accuracy of 0.75598. Pretty mediocre!"
   ]
  },
  {
   "cell_type": "code",
   "execution_count": 38,
   "id": "50936ee0",
   "metadata": {},
   "outputs": [
    {
     "data": {
      "text/plain": [
       "XGBClassifier(base_score=0.5, booster='gbtree', colsample_bylevel=1,\n",
       "              colsample_bynode=1, colsample_bytree=1, enable_categorical=False,\n",
       "              eval_metric='logloss', gamma=0, gpu_id=-1, importance_type=None,\n",
       "              interaction_constraints='', learning_rate=0.2, max_delta_step=0,\n",
       "              max_depth=6, min_child_weight=1, missing=nan,\n",
       "              monotone_constraints='()', n_estimators=14, n_jobs=16,\n",
       "              num_parallel_tree=1, predictor='auto', random_state=0,\n",
       "              reg_alpha=0, reg_lambda=1, scale_pos_weight=1, subsample=1,\n",
       "              tree_method='exact', use_label_encoder=False,\n",
       "              validate_parameters=1, verbosity=None)"
      ]
     },
     "execution_count": 38,
     "metadata": {},
     "output_type": "execute_result"
    }
   ],
   "source": [
    "params={'objective': 'binary:logistic', 'max_depth':6, 'eval_metric':'logloss'}\n",
    "model = XGBClassifier(**params, use_label_encoder=False, n_estimators=14, learning_rate=0.2)\n",
    "X = oh_imputed_reduced.iloc[:,1:]\n",
    "y = oh_imputed_reduced['Survived']\n",
    "model.fit(X, y, verbose=False)"
   ]
  },
  {
   "cell_type": "code",
   "execution_count": 56,
   "id": "9b2fa99c",
   "metadata": {},
   "outputs": [],
   "source": [
    "final_survival = model.predict(oh_imputed_reduced_test)\n",
    "final = test.loc[:,['PassengerId']]\n",
    "final['Survived'] = final_survival"
   ]
  },
  {
   "cell_type": "code",
   "execution_count": 59,
   "id": "dd2d9970",
   "metadata": {},
   "outputs": [],
   "source": [
    "#final.to_csv('survivors.csv', index=False)"
   ]
  },
  {
   "cell_type": "code",
   "execution_count": 57,
   "id": "f16d20ec",
   "metadata": {},
   "outputs": [
    {
     "data": {
      "text/html": [
       "<div>\n",
       "<style scoped>\n",
       "    .dataframe tbody tr th:only-of-type {\n",
       "        vertical-align: middle;\n",
       "    }\n",
       "\n",
       "    .dataframe tbody tr th {\n",
       "        vertical-align: top;\n",
       "    }\n",
       "\n",
       "    .dataframe thead th {\n",
       "        text-align: right;\n",
       "    }\n",
       "</style>\n",
       "<table border=\"1\" class=\"dataframe\">\n",
       "  <thead>\n",
       "    <tr style=\"text-align: right;\">\n",
       "      <th></th>\n",
       "      <th>PassengerId</th>\n",
       "      <th>Survived</th>\n",
       "    </tr>\n",
       "  </thead>\n",
       "  <tbody>\n",
       "    <tr>\n",
       "      <th>0</th>\n",
       "      <td>892</td>\n",
       "      <td>0</td>\n",
       "    </tr>\n",
       "    <tr>\n",
       "      <th>1</th>\n",
       "      <td>893</td>\n",
       "      <td>0</td>\n",
       "    </tr>\n",
       "    <tr>\n",
       "      <th>2</th>\n",
       "      <td>894</td>\n",
       "      <td>0</td>\n",
       "    </tr>\n",
       "    <tr>\n",
       "      <th>3</th>\n",
       "      <td>895</td>\n",
       "      <td>0</td>\n",
       "    </tr>\n",
       "    <tr>\n",
       "      <th>4</th>\n",
       "      <td>896</td>\n",
       "      <td>1</td>\n",
       "    </tr>\n",
       "    <tr>\n",
       "      <th>...</th>\n",
       "      <td>...</td>\n",
       "      <td>...</td>\n",
       "    </tr>\n",
       "    <tr>\n",
       "      <th>413</th>\n",
       "      <td>1305</td>\n",
       "      <td>0</td>\n",
       "    </tr>\n",
       "    <tr>\n",
       "      <th>414</th>\n",
       "      <td>1306</td>\n",
       "      <td>1</td>\n",
       "    </tr>\n",
       "    <tr>\n",
       "      <th>415</th>\n",
       "      <td>1307</td>\n",
       "      <td>0</td>\n",
       "    </tr>\n",
       "    <tr>\n",
       "      <th>416</th>\n",
       "      <td>1308</td>\n",
       "      <td>0</td>\n",
       "    </tr>\n",
       "    <tr>\n",
       "      <th>417</th>\n",
       "      <td>1309</td>\n",
       "      <td>0</td>\n",
       "    </tr>\n",
       "  </tbody>\n",
       "</table>\n",
       "<p>418 rows × 2 columns</p>\n",
       "</div>"
      ],
      "text/plain": [
       "     PassengerId  Survived\n",
       "0            892         0\n",
       "1            893         0\n",
       "2            894         0\n",
       "3            895         0\n",
       "4            896         1\n",
       "..           ...       ...\n",
       "413         1305         0\n",
       "414         1306         1\n",
       "415         1307         0\n",
       "416         1308         0\n",
       "417         1309         0\n",
       "\n",
       "[418 rows x 2 columns]"
      ]
     },
     "execution_count": 57,
     "metadata": {},
     "output_type": "execute_result"
    }
   ],
   "source": []
  },
  {
   "cell_type": "code",
   "execution_count": null,
   "id": "7718299f",
   "metadata": {},
   "outputs": [],
   "source": []
  }
 ],
 "metadata": {
  "kernelspec": {
   "display_name": "Python 3.9.7 (tensorflow)",
   "language": "python",
   "name": "tensorflow"
  },
  "language_info": {
   "codemirror_mode": {
    "name": "ipython",
    "version": 3
   },
   "file_extension": ".py",
   "mimetype": "text/x-python",
   "name": "python",
   "nbconvert_exporter": "python",
   "pygments_lexer": "ipython3",
   "version": "3.9.7"
  }
 },
 "nbformat": 4,
 "nbformat_minor": 5
}
