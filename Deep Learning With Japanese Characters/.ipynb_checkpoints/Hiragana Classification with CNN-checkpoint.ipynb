{
 "cells": [
  {
   "cell_type": "markdown",
   "id": "ae6db4a6",
   "metadata": {},
   "source": [
    "# Hiragana classification using a convolutional neural network #\n",
    "This deep learning model uses 2D convolution layers to identify Japanese hiragana characters. The dataset used to train this model was taken from https://github.com/rois-codh/kmnist, using specifically the K49 dataset which consists of 232365 handwritten cursive hiragana characters with matching labels."
   ]
  },
  {
   "cell_type": "markdown",
   "id": "c12ed915",
   "metadata": {},
   "source": [
    "We first import the necessary libraries."
   ]
  },
  {
   "cell_type": "code",
   "execution_count": 1,
   "id": "eb0e9e6f",
   "metadata": {},
   "outputs": [],
   "source": [
    "from tensorflow.keras import layers, models, utils\n",
    "import numpy as np\n",
    "import matplotlib.pyplot as plt\n",
    "import pandas as pd\n",
    "import random"
   ]
  },
  {
   "cell_type": "markdown",
   "id": "48ad1dbb",
   "metadata": {},
   "source": [
    "The images and labels are then loaded and normalized as numpy arrays."
   ]
  },
  {
   "cell_type": "code",
   "execution_count": 13,
   "id": "094e4057",
   "metadata": {},
   "outputs": [
    {
     "data": {
      "text/plain": [
       "(232365, 28, 28)"
      ]
     },
     "execution_count": 13,
     "metadata": {},
     "output_type": "execute_result"
    }
   ],
   "source": [
    "characters = np.load('datasets/k49-train-imgs.npz')['arr_0']\n",
    "labels = np.load('datasets/k49-train-labels.npz')['arr_0']\n",
    "\n",
    "characters = characters.astype('float32')/255\n",
    "labels = utils.to_categorical(labels)\n",
    "\n",
    "characters.shape"
   ]
  },
  {
   "cell_type": "code",
   "execution_count": 19,
   "id": "6e82a273",
   "metadata": {},
   "outputs": [
    {
     "data": {
      "image/png": "[encoded data removed]",
      "text/plain": [
       "<Figure size 432x288 with 1 Axes>"
      ]
     },
     "metadata": {
      "needs_background": "light"
     },
     "output_type": "display_data"
    }
   ],
   "source": [
    "plt.imshow(characters[random.randint(0, characters.shape[0])], cmap='binary')\n",
    "plt.show()"
   ]
  },
  {
   "cell_type": "markdown",
   "id": "ed0f1e6a",
   "metadata": {},
   "source": [
    "The model used is a convolutional neural network based on the one described in the book <i> Deep Learning with Python </i> by Francois Chollet with the dimension on the final output layer changed to (1, 49) to account for the 49 possible characters available."
   ]
  },
  {
   "cell_type": "code",
   "execution_count": 4,
   "id": "911e1e1d",
   "metadata": {},
   "outputs": [],
   "source": [
    "model = models.Sequential()\n",
    "model.add(layers.Conv2D(32, (3,3), activation='relu', input_shape=(28,28,1)))\n",
    "model.add(layers.MaxPooling2D((2,2)))\n",
    "model.add(layers.Conv2D(64, (3,3), activation='relu'))\n",
    "model.add(layers.MaxPooling2D((2,2)))\n",
    "model.add(layers.Conv2D(64, (3,3), activation='relu'))\n",
    "model.add(layers.Flatten())\n",
    "model.add(layers.Dense(64, activation='relu'))\n",
    "model.add(layers.Dense(49, activation='softmax'))"
   ]
  },
  {
   "cell_type": "markdown",
   "id": "34b4f5d2",
   "metadata": {},
   "source": [
    "Model compilation and training."
   ]
  },
  {
   "cell_type": "code",
   "execution_count": 5,
   "id": "dad966f5",
   "metadata": {},
   "outputs": [
    {
     "name": "stdout",
     "output_type": "stream",
     "text": [
      "Epoch 1/15\n",
      "1816/1816 [==============================] - 17s 6ms/step - loss: 0.7471 - accuracy: 0.8031\n",
      "Epoch 2/15\n",
      "1816/1816 [==============================] - 11s 6ms/step - loss: 0.2754 - accuracy: 0.9232\n",
      "Epoch 3/15\n",
      "1816/1816 [==============================] - 11s 6ms/step - loss: 0.2025 - accuracy: 0.9435\n",
      "Epoch 4/15\n",
      "1816/1816 [==============================] - 11s 6ms/step - loss: 0.1654 - accuracy: 0.9534\n",
      "Epoch 5/15\n",
      "1816/1816 [==============================] - 11s 6ms/step - loss: 0.1420 - accuracy: 0.9603\n",
      "Epoch 6/15\n",
      "1816/1816 [==============================] - 11s 6ms/step - loss: 0.1250 - accuracy: 0.9647\n",
      "Epoch 7/15\n",
      "1816/1816 [==============================] - 11s 6ms/step - loss: 0.1129 - accuracy: 0.9683\n",
      "Epoch 8/15\n",
      "1816/1816 [==============================] - 11s 6ms/step - loss: 0.1010 - accuracy: 0.9711\n",
      "Epoch 9/15\n",
      "1816/1816 [==============================] - 11s 6ms/step - loss: 0.0918 - accuracy: 0.9737\n",
      "Epoch 10/15\n",
      "1816/1816 [==============================] - 10s 6ms/step - loss: 0.0844 - accuracy: 0.9757\n",
      "Epoch 11/15\n",
      "1816/1816 [==============================] - 10s 6ms/step - loss: 0.0773 - accuracy: 0.9774\n",
      "Epoch 12/15\n",
      "1816/1816 [==============================] - 10s 6ms/step - loss: 0.0716 - accuracy: 0.9790\n",
      "Epoch 13/15\n",
      "1816/1816 [==============================] - 10s 6ms/step - loss: 0.0666 - accuracy: 0.9803\n",
      "Epoch 14/15\n",
      "1816/1816 [==============================] - 10s 6ms/step - loss: 0.0622 - accuracy: 0.9812\n",
      "Epoch 15/15\n",
      "1816/1816 [==============================] - 10s 6ms/step - loss: 0.0580 - accuracy: 0.9825\n"
     ]
    },
    {
     "data": {
      "text/plain": [
       "<keras.callbacks.History at 0x20920fe8190>"
      ]
     },
     "execution_count": 5,
     "metadata": {},
     "output_type": "execute_result"
    }
   ],
   "source": [
    "model.compile(optimizer='rmsprop',\n",
    "              loss='categorical_crossentropy',\n",
    "              metrics=['accuracy'])\n",
    "model.fit(characters, labels, epochs=15, batch_size=128)"
   ]
  },
  {
   "cell_type": "markdown",
   "id": "1638a156",
   "metadata": {},
   "source": [
    "I've imported the label to character mappings to give an idea on how effectively the model can classify characters in the dataset it was trained on."
   ]
  },
  {
   "cell_type": "code",
   "execution_count": 7,
   "id": "0fc2b14b",
   "metadata": {},
   "outputs": [],
   "source": [
    "maps = pd.read_csv('datasets/k49_classmap.csv')"
   ]
  },
  {
   "cell_type": "markdown",
   "id": "b1db371b",
   "metadata": {},
   "source": [
    "We pick 10 random characters and print out how they look as well as what the model predicts them to be."
   ]
  },
  {
   "cell_type": "code",
   "execution_count": 24,
   "id": "25cc2acc",
   "metadata": {},
   "outputs": [
    {
     "data": {
      "image/png": "[encoded data removed]",
      "text/plain": [
       "<Figure size 648x648 with 10 Axes>"
      ]
     },
     "metadata": {
      "needs_background": "light"
     },
     "output_type": "display_data"
    },
    {
     "name": "stdout",
     "output_type": "stream",
     "text": [
      "['め', 'な', 'る', 'な', 'み', 'ひ', 'よ', 'と', 'せ', 'て']\n"
     ]
    }
   ],
   "source": [
    "ten_chars = random.choices(characters, k=10)\n",
    "predictions = []\n",
    "ax, fig= plt.subplots(1,10)\n",
    "ax.set_size_inches(9,9)\n",
    "for idx, char in enumerate(ten_chars):\n",
    "    fig[idx].imshow(char, cmap='binary')\n",
    "    predictions.append(model.predict(char.copy().reshape(1, 28, 28, 1)).argmax())\n",
    "plt.show()\n",
    "print([maps['char'][pred] for pred in predictions])"
   ]
  },
  {
   "cell_type": "markdown",
   "id": "4a826ec8",
   "metadata": {},
   "source": [
    "Finally we run the model on the test dataset to determine its accuracy on new data."
   ]
  },
  {
   "cell_type": "code",
   "execution_count": 10,
   "id": "4a8a85bc",
   "metadata": {},
   "outputs": [],
   "source": [
    "test_characters = np.load('datasets/k49-test-imgs.npz')['arr_0']\n",
    "test_labels = np.load('datasets/k49-test-labels.npz')['arr_0']\n",
    "\n",
    "test_characters = test_characters.astype('float32')/255\n",
    "test_labels = utils.to_categorical(test_labels)"
   ]
  },
  {
   "cell_type": "code",
   "execution_count": 12,
   "id": "2122b94f",
   "metadata": {},
   "outputs": [
    {
     "name": "stdout",
     "output_type": "stream",
     "text": [
      "1205/1205 [==============================] - 3s 2ms/step - loss: 0.4505 - accuracy: 0.9173\n"
     ]
    },
    {
     "data": {
      "text/plain": [
       "[0.45047837495803833, 0.9172957539558411]"
      ]
     },
     "execution_count": 12,
     "metadata": {},
     "output_type": "execute_result"
    }
   ],
   "source": [
    "model.evaluate(test_characters, test_labels)"
   ]
  },
  {
   "cell_type": "markdown",
   "id": "fc279be2",
   "metadata": {},
   "source": [
    "We finally save the model for future usage."
   ]
  },
  {
   "cell_type": "code",
   "execution_count": 22,
   "id": "0703df07",
   "metadata": {},
   "outputs": [],
   "source": [
    "#model.save('models/hiragana.h5')"
   ]
  },
  {
   "cell_type": "code",
   "execution_count": null,
   "id": "04f164c8",
   "metadata": {},
   "outputs": [],
   "source": []
  }
 ],
 "metadata": {
  "kernelspec": {
   "display_name": "Python 3.9.7 (tensorflow)",
   "language": "python",
   "name": "tensorflow"
  },
  "language_info": {
   "codemirror_mode": {
    "name": "ipython",
    "version": 3
   },
   "file_extension": ".py",
   "mimetype": "text/x-python",
   "name": "python",
   "nbconvert_exporter": "python",
   "pygments_lexer": "ipython3",
   "version": "3.9.7"
  }
 },
 "nbformat": 4,
 "nbformat_minor": 5
}
