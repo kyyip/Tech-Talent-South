{
 "cells": [
  {
   "cell_type": "code",
   "execution_count": 1,
   "id": "67525f5a",
   "metadata": {},
   "outputs": [
    {
     "name": "stderr",
     "output_type": "stream",
     "text": [
      "Warning message:\n",
      "\"package 'dplyr' was built under R version 3.6.3\"\n",
      "Attaching package: 'dplyr'\n",
      "\n",
      "The following objects are masked from 'package:stats':\n",
      "\n",
      "    filter, lag\n",
      "\n",
      "The following objects are masked from 'package:base':\n",
      "\n",
      "    intersect, setdiff, setequal, union\n",
      "\n"
     ]
    }
   ],
   "source": [
    "library(dplyr)"
   ]
  },
  {
   "cell_type": "code",
   "execution_count": 2,
   "id": "9ab46ffa",
   "metadata": {},
   "outputs": [
    {
     "data": {
      "text/html": [
       "<table>\n",
       "<thead><tr><th scope=col>sex</th><th scope=col>stage</th><th scope=col>treatment</th><th scope=col>myc</th></tr></thead>\n",
       "<tbody>\n",
       "\t<tr><td>M   </td><td>I   </td><td>A   </td><td>2343</td></tr>\n",
       "\t<tr><td>F   </td><td>II  </td><td>A   </td><td> 457</td></tr>\n",
       "\t<tr><td>M   </td><td>II  </td><td>A   </td><td>4593</td></tr>\n",
       "\t<tr><td>F   </td><td>I   </td><td>A   </td><td>9035</td></tr>\n",
       "\t<tr><td>M   </td><td>II  </td><td>B   </td><td>3450</td></tr>\n",
       "\t<tr><td>F   </td><td>II  </td><td>B   </td><td>3524</td></tr>\n",
       "\t<tr><td>M   </td><td>I   </td><td>B   </td><td> 958</td></tr>\n",
       "\t<tr><td>F   </td><td>II  </td><td>B   </td><td>1054</td></tr>\n",
       "\t<tr><td>M   </td><td>II  </td><td>P   </td><td>8674</td></tr>\n",
       "\t<tr><td>F   </td><td>I   </td><td>P   </td><td>3424</td></tr>\n",
       "\t<tr><td>M   </td><td>II  </td><td>P   </td><td> 463</td></tr>\n",
       "\t<tr><td>F   </td><td>II  </td><td>P   </td><td>5105</td></tr>\n",
       "</tbody>\n",
       "</table>\n"
      ],
      "text/latex": [
       "\\begin{tabular}{r|llll}\n",
       " sex & stage & treatment & myc\\\\\n",
       "\\hline\n",
       "\t M    & I    & A    & 2343\\\\\n",
       "\t F    & II   & A    &  457\\\\\n",
       "\t M    & II   & A    & 4593\\\\\n",
       "\t F    & I    & A    & 9035\\\\\n",
       "\t M    & II   & B    & 3450\\\\\n",
       "\t F    & II   & B    & 3524\\\\\n",
       "\t M    & I    & B    &  958\\\\\n",
       "\t F    & II   & B    & 1054\\\\\n",
       "\t M    & II   & P    & 8674\\\\\n",
       "\t F    & I    & P    & 3424\\\\\n",
       "\t M    & II   & P    &  463\\\\\n",
       "\t F    & II   & P    & 5105\\\\\n",
       "\\end{tabular}\n"
      ],
      "text/markdown": [
       "\n",
       "| sex | stage | treatment | myc |\n",
       "|---|---|---|---|\n",
       "| M    | I    | A    | 2343 |\n",
       "| F    | II   | A    |  457 |\n",
       "| M    | II   | A    | 4593 |\n",
       "| F    | I    | A    | 9035 |\n",
       "| M    | II   | B    | 3450 |\n",
       "| F    | II   | B    | 3524 |\n",
       "| M    | I    | B    |  958 |\n",
       "| F    | II   | B    | 1054 |\n",
       "| M    | II   | P    | 8674 |\n",
       "| F    | I    | P    | 3424 |\n",
       "| M    | II   | P    |  463 |\n",
       "| F    | II   | P    | 5105 |\n",
       "\n"
      ],
      "text/plain": [
       "   sex stage treatment myc \n",
       "1  M   I     A         2343\n",
       "2  F   II    A          457\n",
       "3  M   II    A         4593\n",
       "4  F   I     A         9035\n",
       "5  M   II    B         3450\n",
       "6  F   II    B         3524\n",
       "7  M   I     B          958\n",
       "8  F   II    B         1054\n",
       "9  M   II    P         8674\n",
       "10 F   I     P         3424\n",
       "11 M   II    P          463\n",
       "12 F   II    P         5105"
      ]
     },
     "metadata": {},
     "output_type": "display_data"
    }
   ],
   "source": [
    "meta <- data.frame(sex = c('M', 'F', 'M', 'F', 'M', 'F', 'M', 'F', 'M', 'F', 'M', 'F'),\n",
    "                   stage = c('I', \"II\", \"II\", \"I\", \"II\", \"II\", \"I\", \"II\", \"II\", \"I\", \"II\", \"II\"),\n",
    "                   treatment = c(\"A\", \"A\", \"A\", \"A\", \"B\", \"B\", \"B\", \"B\", \"P\", \"P\", \"P\", \"P\"),\n",
    "                   myc = c(2343, 457, 4593, 9035, 3450, 3524, 958, 1054, 8674, 3424, 463, 5105))\n",
    "\n",
    "meta"
   ]
  },
  {
   "cell_type": "code",
   "execution_count": 3,
   "id": "a37b9856",
   "metadata": {
    "scrolled": true
   },
   "outputs": [
    {
     "data": {
      "text/html": [
       "<table>\n",
       "<thead><tr><th scope=col>sex</th><th scope=col>treatment</th></tr></thead>\n",
       "<tbody>\n",
       "\t<tr><td>M</td><td>A</td></tr>\n",
       "\t<tr><td>F</td><td>A</td></tr>\n",
       "\t<tr><td>M</td><td>A</td></tr>\n",
       "\t<tr><td>F</td><td>A</td></tr>\n",
       "\t<tr><td>M</td><td>B</td></tr>\n",
       "\t<tr><td>F</td><td>B</td></tr>\n",
       "\t<tr><td>M</td><td>B</td></tr>\n",
       "\t<tr><td>F</td><td>B</td></tr>\n",
       "\t<tr><td>M</td><td>P</td></tr>\n",
       "\t<tr><td>F</td><td>P</td></tr>\n",
       "\t<tr><td>M</td><td>P</td></tr>\n",
       "\t<tr><td>F</td><td>P</td></tr>\n",
       "</tbody>\n",
       "</table>\n"
      ],
      "text/latex": [
       "\\begin{tabular}{r|ll}\n",
       " sex & treatment\\\\\n",
       "\\hline\n",
       "\t M & A\\\\\n",
       "\t F & A\\\\\n",
       "\t M & A\\\\\n",
       "\t F & A\\\\\n",
       "\t M & B\\\\\n",
       "\t F & B\\\\\n",
       "\t M & B\\\\\n",
       "\t F & B\\\\\n",
       "\t M & P\\\\\n",
       "\t F & P\\\\\n",
       "\t M & P\\\\\n",
       "\t F & P\\\\\n",
       "\\end{tabular}\n"
      ],
      "text/markdown": [
       "\n",
       "| sex | treatment |\n",
       "|---|---|\n",
       "| M | A |\n",
       "| F | A |\n",
       "| M | A |\n",
       "| F | A |\n",
       "| M | B |\n",
       "| F | B |\n",
       "| M | B |\n",
       "| F | B |\n",
       "| M | P |\n",
       "| F | P |\n",
       "| M | P |\n",
       "| F | P |\n",
       "\n"
      ],
      "text/plain": [
       "   sex treatment\n",
       "1  M   A        \n",
       "2  F   A        \n",
       "3  M   A        \n",
       "4  F   A        \n",
       "5  M   B        \n",
       "6  F   B        \n",
       "7  M   B        \n",
       "8  F   B        \n",
       "9  M   P        \n",
       "10 F   P        \n",
       "11 M   P        \n",
       "12 F   P        "
      ]
     },
     "metadata": {},
     "output_type": "display_data"
    }
   ],
   "source": [
    "meta[,c(1, 3)]"
   ]
  },
  {
   "cell_type": "code",
   "execution_count": 4,
   "id": "f9c94fe3",
   "metadata": {},
   "outputs": [
    {
     "data": {
      "text/html": [
       "<ol class=list-inline>\n",
       "\t<li>B</li>\n",
       "\t<li>B</li>\n",
       "\t<li>P</li>\n",
       "\t<li>P</li>\n",
       "</ol>\n",
       "\n",
       "<details>\n",
       "\t<summary style=display:list-item;cursor:pointer>\n",
       "\t\t<strong>Levels</strong>:\n",
       "\t</summary>\n",
       "\t<ol class=list-inline>\n",
       "\t\t<li>'A'</li>\n",
       "\t\t<li>'B'</li>\n",
       "\t\t<li>'P'</li>\n",
       "\t</ol>\n",
       "</details>"
      ],
      "text/latex": [
       "\\begin{enumerate*}\n",
       "\\item B\n",
       "\\item B\n",
       "\\item P\n",
       "\\item P\n",
       "\\end{enumerate*}\n",
       "\n",
       "\\emph{Levels}: \\begin{enumerate*}\n",
       "\\item 'A'\n",
       "\\item 'B'\n",
       "\\item 'P'\n",
       "\\end{enumerate*}\n"
      ],
      "text/markdown": [
       "1. B\n",
       "2. B\n",
       "3. P\n",
       "4. P\n",
       "\n",
       "\n",
       "\n",
       "**Levels**: 1. 'A'\n",
       "2. 'B'\n",
       "3. 'P'\n",
       "\n",
       "\n"
      ],
      "text/plain": [
       "[1] B B P P\n",
       "Levels: A B P"
      ]
     },
     "metadata": {},
     "output_type": "display_data"
    }
   ],
   "source": [
    "meta[c(5, 7, 9, 10), 3]"
   ]
  },
  {
   "cell_type": "code",
   "execution_count": 5,
   "id": "23ebde28",
   "metadata": {},
   "outputs": [
    {
     "data": {
      "text/html": [
       "<table>\n",
       "<thead><tr><th></th><th scope=col>sex</th><th scope=col>stage</th><th scope=col>treatment</th><th scope=col>myc</th></tr></thead>\n",
       "<tbody>\n",
       "\t<tr><th scope=row>9</th><td>M   </td><td>II  </td><td>P   </td><td>8674</td></tr>\n",
       "\t<tr><th scope=row>10</th><td>F   </td><td>I   </td><td>P   </td><td>3424</td></tr>\n",
       "\t<tr><th scope=row>11</th><td>M   </td><td>II  </td><td>P   </td><td> 463</td></tr>\n",
       "\t<tr><th scope=row>12</th><td>F   </td><td>II  </td><td>P   </td><td>5105</td></tr>\n",
       "</tbody>\n",
       "</table>\n"
      ],
      "text/latex": [
       "\\begin{tabular}{r|llll}\n",
       "  & sex & stage & treatment & myc\\\\\n",
       "\\hline\n",
       "\t9 & M    & II   & P    & 8674\\\\\n",
       "\t10 & F    & I    & P    & 3424\\\\\n",
       "\t11 & M    & II   & P    &  463\\\\\n",
       "\t12 & F    & II   & P    & 5105\\\\\n",
       "\\end{tabular}\n"
      ],
      "text/markdown": [
       "\n",
       "| <!--/--> | sex | stage | treatment | myc |\n",
       "|---|---|---|---|---|\n",
       "| 9 | M    | II   | P    | 8674 |\n",
       "| 10 | F    | I    | P    | 3424 |\n",
       "| 11 | M    | II   | P    |  463 |\n",
       "| 12 | F    | II   | P    | 5105 |\n",
       "\n"
      ],
      "text/plain": [
       "   sex stage treatment myc \n",
       "9  M   II    P         8674\n",
       "10 F   I     P         3424\n",
       "11 M   II    P          463\n",
       "12 F   II    P         5105"
      ]
     },
     "metadata": {},
     "output_type": "display_data"
    }
   ],
   "source": [
    "subset(meta, treatment=='P')"
   ]
  },
  {
   "cell_type": "code",
   "execution_count": 6,
   "id": "9b817e0f",
   "metadata": {},
   "outputs": [
    {
     "data": {
      "text/html": [
       "<table>\n",
       "<thead><tr><th scope=col>stage</th><th scope=col>treatment</th></tr></thead>\n",
       "<tbody>\n",
       "\t<tr><td>I </td><td>A </td></tr>\n",
       "\t<tr><td>II</td><td>P </td></tr>\n",
       "\t<tr><td>II</td><td>P </td></tr>\n",
       "</tbody>\n",
       "</table>\n"
      ],
      "text/latex": [
       "\\begin{tabular}{r|ll}\n",
       " stage & treatment\\\\\n",
       "\\hline\n",
       "\t I  & A \\\\\n",
       "\t II & P \\\\\n",
       "\t II & P \\\\\n",
       "\\end{tabular}\n"
      ],
      "text/markdown": [
       "\n",
       "| stage | treatment |\n",
       "|---|---|\n",
       "| I  | A  |\n",
       "| II | P  |\n",
       "| II | P  |\n",
       "\n"
      ],
      "text/plain": [
       "  stage treatment\n",
       "1 I     A        \n",
       "2 II    P        \n",
       "3 II    P        "
      ]
     },
     "metadata": {},
     "output_type": "display_data"
    }
   ],
   "source": [
    "select(filter(meta, myc>5000), stage, treatment)"
   ]
  },
  {
   "cell_type": "code",
   "execution_count": 7,
   "id": "9db7d74a",
   "metadata": {},
   "outputs": [
    {
     "data": {
      "text/html": [
       "<table>\n",
       "<thead><tr><th scope=col>sex</th><th scope=col>stage</th><th scope=col>myc</th></tr></thead>\n",
       "<tbody>\n",
       "\t<tr><td>M   </td><td>I   </td><td>2343</td></tr>\n",
       "\t<tr><td>F   </td><td>II  </td><td> 457</td></tr>\n",
       "\t<tr><td>M   </td><td>II  </td><td>4593</td></tr>\n",
       "\t<tr><td>F   </td><td>I   </td><td>9035</td></tr>\n",
       "\t<tr><td>M   </td><td>II  </td><td>3450</td></tr>\n",
       "\t<tr><td>F   </td><td>II  </td><td>3524</td></tr>\n",
       "\t<tr><td>M   </td><td>I   </td><td> 958</td></tr>\n",
       "\t<tr><td>F   </td><td>II  </td><td>1054</td></tr>\n",
       "\t<tr><td>M   </td><td>II  </td><td>8674</td></tr>\n",
       "\t<tr><td>F   </td><td>I   </td><td>3424</td></tr>\n",
       "\t<tr><td>M   </td><td>II  </td><td> 463</td></tr>\n",
       "\t<tr><td>F   </td><td>II  </td><td>5105</td></tr>\n",
       "</tbody>\n",
       "</table>\n"
      ],
      "text/latex": [
       "\\begin{tabular}{r|lll}\n",
       " sex & stage & myc\\\\\n",
       "\\hline\n",
       "\t M    & I    & 2343\\\\\n",
       "\t F    & II   &  457\\\\\n",
       "\t M    & II   & 4593\\\\\n",
       "\t F    & I    & 9035\\\\\n",
       "\t M    & II   & 3450\\\\\n",
       "\t F    & II   & 3524\\\\\n",
       "\t M    & I    &  958\\\\\n",
       "\t F    & II   & 1054\\\\\n",
       "\t M    & II   & 8674\\\\\n",
       "\t F    & I    & 3424\\\\\n",
       "\t M    & II   &  463\\\\\n",
       "\t F    & II   & 5105\\\\\n",
       "\\end{tabular}\n"
      ],
      "text/markdown": [
       "\n",
       "| sex | stage | myc |\n",
       "|---|---|---|\n",
       "| M    | I    | 2343 |\n",
       "| F    | II   |  457 |\n",
       "| M    | II   | 4593 |\n",
       "| F    | I    | 9035 |\n",
       "| M    | II   | 3450 |\n",
       "| F    | II   | 3524 |\n",
       "| M    | I    |  958 |\n",
       "| F    | II   | 1054 |\n",
       "| M    | II   | 8674 |\n",
       "| F    | I    | 3424 |\n",
       "| M    | II   |  463 |\n",
       "| F    | II   | 5105 |\n",
       "\n"
      ],
      "text/plain": [
       "   sex stage myc \n",
       "1  M   I     2343\n",
       "2  F   II     457\n",
       "3  M   II    4593\n",
       "4  F   I     9035\n",
       "5  M   II    3450\n",
       "6  F   II    3524\n",
       "7  M   I      958\n",
       "8  F   II    1054\n",
       "9  M   II    8674\n",
       "10 F   I     3424\n",
       "11 M   II     463\n",
       "12 F   II    5105"
      ]
     },
     "metadata": {},
     "output_type": "display_data"
    }
   ],
   "source": [
    "meta[, -3]"
   ]
  },
  {
   "cell_type": "code",
   "execution_count": 8,
   "id": "ee4f6069",
   "metadata": {
    "scrolled": true
   },
   "outputs": [
    {
     "data": {
      "text/html": [
       "<table>\n",
       "<thead><tr><th></th><th scope=col>sex</th><th scope=col>stage</th><th scope=col>treatment</th><th scope=col>myc</th></tr></thead>\n",
       "<tbody>\n",
       "\t<tr><th scope=row>1</th><td>M   </td><td>I   </td><td>A   </td><td>2343</td></tr>\n",
       "\t<tr><th scope=row>2</th><td>F   </td><td>II  </td><td>A   </td><td> 457</td></tr>\n",
       "\t<tr><th scope=row>3</th><td>M   </td><td>II  </td><td>A   </td><td>4593</td></tr>\n",
       "\t<tr><th scope=row>4</th><td>F   </td><td>I   </td><td>A   </td><td>9035</td></tr>\n",
       "\t<tr><th scope=row>5</th><td>M   </td><td>II  </td><td>B   </td><td>3450</td></tr>\n",
       "\t<tr><th scope=row>6</th><td>F   </td><td>II  </td><td>B   </td><td>3524</td></tr>\n",
       "\t<tr><th scope=row>10</th><td>F   </td><td>I   </td><td>P   </td><td>3424</td></tr>\n",
       "\t<tr><th scope=row>11</th><td>M   </td><td>II  </td><td>P   </td><td> 463</td></tr>\n",
       "\t<tr><th scope=row>12</th><td>F   </td><td>II  </td><td>P   </td><td>5105</td></tr>\n",
       "</tbody>\n",
       "</table>\n"
      ],
      "text/latex": [
       "\\begin{tabular}{r|llll}\n",
       "  & sex & stage & treatment & myc\\\\\n",
       "\\hline\n",
       "\t1 & M    & I    & A    & 2343\\\\\n",
       "\t2 & F    & II   & A    &  457\\\\\n",
       "\t3 & M    & II   & A    & 4593\\\\\n",
       "\t4 & F    & I    & A    & 9035\\\\\n",
       "\t5 & M    & II   & B    & 3450\\\\\n",
       "\t6 & F    & II   & B    & 3524\\\\\n",
       "\t10 & F    & I    & P    & 3424\\\\\n",
       "\t11 & M    & II   & P    &  463\\\\\n",
       "\t12 & F    & II   & P    & 5105\\\\\n",
       "\\end{tabular}\n"
      ],
      "text/markdown": [
       "\n",
       "| <!--/--> | sex | stage | treatment | myc |\n",
       "|---|---|---|---|---|\n",
       "| 1 | M    | I    | A    | 2343 |\n",
       "| 2 | F    | II   | A    |  457 |\n",
       "| 3 | M    | II   | A    | 4593 |\n",
       "| 4 | F    | I    | A    | 9035 |\n",
       "| 5 | M    | II   | B    | 3450 |\n",
       "| 6 | F    | II   | B    | 3524 |\n",
       "| 10 | F    | I    | P    | 3424 |\n",
       "| 11 | M    | II   | P    |  463 |\n",
       "| 12 | F    | II   | P    | 5105 |\n",
       "\n"
      ],
      "text/plain": [
       "   sex stage treatment myc \n",
       "1  M   I     A         2343\n",
       "2  F   II    A          457\n",
       "3  M   II    A         4593\n",
       "4  F   I     A         9035\n",
       "5  M   II    B         3450\n",
       "6  F   II    B         3524\n",
       "10 F   I     P         3424\n",
       "11 M   II    P          463\n",
       "12 F   II    P         5105"
      ]
     },
     "metadata": {},
     "output_type": "display_data"
    }
   ],
   "source": [
    "meta[c(-7,-8,-9),]"
   ]
  },
  {
   "cell_type": "code",
   "execution_count": 9,
   "id": "45adf939",
   "metadata": {},
   "outputs": [
    {
     "data": {
      "text/html": [
       "<table>\n",
       "<thead><tr><th scope=col>sex</th><th scope=col>stage</th><th scope=col>treatment</th><th scope=col>myc</th></tr></thead>\n",
       "<tbody>\n",
       "\t<tr><td>M   </td><td>I   </td><td>A   </td><td>2343</td></tr>\n",
       "\t<tr><td>F   </td><td>II  </td><td>A   </td><td> 457</td></tr>\n",
       "\t<tr><td>M   </td><td>II  </td><td>A   </td><td>4593</td></tr>\n",
       "\t<tr><td>F   </td><td>I   </td><td>A   </td><td>9035</td></tr>\n",
       "\t<tr><td>M   </td><td>II  </td><td>B   </td><td>3450</td></tr>\n",
       "\t<tr><td>F   </td><td>II  </td><td>B   </td><td>3524</td></tr>\n",
       "</tbody>\n",
       "</table>\n"
      ],
      "text/latex": [
       "\\begin{tabular}{r|llll}\n",
       " sex & stage & treatment & myc\\\\\n",
       "\\hline\n",
       "\t M    & I    & A    & 2343\\\\\n",
       "\t F    & II   & A    &  457\\\\\n",
       "\t M    & II   & A    & 4593\\\\\n",
       "\t F    & I    & A    & 9035\\\\\n",
       "\t M    & II   & B    & 3450\\\\\n",
       "\t F    & II   & B    & 3524\\\\\n",
       "\\end{tabular}\n"
      ],
      "text/markdown": [
       "\n",
       "| sex | stage | treatment | myc |\n",
       "|---|---|---|---|\n",
       "| M    | I    | A    | 2343 |\n",
       "| F    | II   | A    |  457 |\n",
       "| M    | II   | A    | 4593 |\n",
       "| F    | I    | A    | 9035 |\n",
       "| M    | II   | B    | 3450 |\n",
       "| F    | II   | B    | 3524 |\n",
       "\n"
      ],
      "text/plain": [
       "  sex stage treatment myc \n",
       "1 M   I     A         2343\n",
       "2 F   II    A          457\n",
       "3 M   II    A         4593\n",
       "4 F   I     A         9035\n",
       "5 M   II    B         3450\n",
       "6 F   II    B         3524"
      ]
     },
     "metadata": {},
     "output_type": "display_data"
    }
   ],
   "source": [
    "meta[1:6,]"
   ]
  },
  {
   "cell_type": "code",
   "execution_count": 10,
   "id": "1cf77a34",
   "metadata": {},
   "outputs": [],
   "source": [
    "pretreatment <- c('T', 'F', 'F', 'F', 'T', 'T', 'F', 'T', 'F', 'F', 'T', 'T')"
   ]
  },
  {
   "cell_type": "code",
   "execution_count": 11,
   "id": "ff88f1f8",
   "metadata": {},
   "outputs": [
    {
     "data": {
      "text/html": [
       "<table>\n",
       "<thead><tr><th scope=col>sex</th><th scope=col>stage</th><th scope=col>treatment</th><th scope=col>myc</th><th scope=col>pretreatment</th></tr></thead>\n",
       "<tbody>\n",
       "\t<tr><td>M   </td><td>I   </td><td>A   </td><td>2343</td><td>T   </td></tr>\n",
       "\t<tr><td>F   </td><td>II  </td><td>A   </td><td> 457</td><td>F   </td></tr>\n",
       "\t<tr><td>M   </td><td>II  </td><td>A   </td><td>4593</td><td>F   </td></tr>\n",
       "\t<tr><td>F   </td><td>I   </td><td>A   </td><td>9035</td><td>F   </td></tr>\n",
       "\t<tr><td>M   </td><td>II  </td><td>B   </td><td>3450</td><td>T   </td></tr>\n",
       "\t<tr><td>F   </td><td>II  </td><td>B   </td><td>3524</td><td>T   </td></tr>\n",
       "\t<tr><td>M   </td><td>I   </td><td>B   </td><td> 958</td><td>F   </td></tr>\n",
       "\t<tr><td>F   </td><td>II  </td><td>B   </td><td>1054</td><td>T   </td></tr>\n",
       "\t<tr><td>M   </td><td>II  </td><td>P   </td><td>8674</td><td>F   </td></tr>\n",
       "\t<tr><td>F   </td><td>I   </td><td>P   </td><td>3424</td><td>F   </td></tr>\n",
       "\t<tr><td>M   </td><td>II  </td><td>P   </td><td> 463</td><td>T   </td></tr>\n",
       "\t<tr><td>F   </td><td>II  </td><td>P   </td><td>5105</td><td>T   </td></tr>\n",
       "</tbody>\n",
       "</table>\n"
      ],
      "text/latex": [
       "\\begin{tabular}{r|lllll}\n",
       " sex & stage & treatment & myc & pretreatment\\\\\n",
       "\\hline\n",
       "\t M    & I    & A    & 2343 & T   \\\\\n",
       "\t F    & II   & A    &  457 & F   \\\\\n",
       "\t M    & II   & A    & 4593 & F   \\\\\n",
       "\t F    & I    & A    & 9035 & F   \\\\\n",
       "\t M    & II   & B    & 3450 & T   \\\\\n",
       "\t F    & II   & B    & 3524 & T   \\\\\n",
       "\t M    & I    & B    &  958 & F   \\\\\n",
       "\t F    & II   & B    & 1054 & T   \\\\\n",
       "\t M    & II   & P    & 8674 & F   \\\\\n",
       "\t F    & I    & P    & 3424 & F   \\\\\n",
       "\t M    & II   & P    &  463 & T   \\\\\n",
       "\t F    & II   & P    & 5105 & T   \\\\\n",
       "\\end{tabular}\n"
      ],
      "text/markdown": [
       "\n",
       "| sex | stage | treatment | myc | pretreatment |\n",
       "|---|---|---|---|---|\n",
       "| M    | I    | A    | 2343 | T    |\n",
       "| F    | II   | A    |  457 | F    |\n",
       "| M    | II   | A    | 4593 | F    |\n",
       "| F    | I    | A    | 9035 | F    |\n",
       "| M    | II   | B    | 3450 | T    |\n",
       "| F    | II   | B    | 3524 | T    |\n",
       "| M    | I    | B    |  958 | F    |\n",
       "| F    | II   | B    | 1054 | T    |\n",
       "| M    | II   | P    | 8674 | F    |\n",
       "| F    | I    | P    | 3424 | F    |\n",
       "| M    | II   | P    |  463 | T    |\n",
       "| F    | II   | P    | 5105 | T    |\n",
       "\n"
      ],
      "text/plain": [
       "   sex stage treatment myc  pretreatment\n",
       "1  M   I     A         2343 T           \n",
       "2  F   II    A          457 F           \n",
       "3  M   II    A         4593 F           \n",
       "4  F   I     A         9035 F           \n",
       "5  M   II    B         3450 T           \n",
       "6  F   II    B         3524 T           \n",
       "7  M   I     B          958 F           \n",
       "8  F   II    B         1054 T           \n",
       "9  M   II    P         8674 F           \n",
       "10 F   I     P         3424 F           \n",
       "11 M   II    P          463 T           \n",
       "12 F   II    P         5105 T           "
      ]
     },
     "metadata": {},
     "output_type": "display_data"
    }
   ],
   "source": [
    "cbind(meta, pretreatment)"
   ]
  },
  {
   "cell_type": "code",
   "execution_count": 12,
   "id": "50f9cf7e",
   "metadata": {},
   "outputs": [
    {
     "data": {
      "text/html": [
       "<table>\n",
       "<thead><tr><th scope=col>a</th><th scope=col>b</th><th scope=col>c</th><th scope=col>d</th></tr></thead>\n",
       "<tbody>\n",
       "\t<tr><td>M   </td><td>I   </td><td>A   </td><td>2343</td></tr>\n",
       "\t<tr><td>F   </td><td>II  </td><td>A   </td><td> 457</td></tr>\n",
       "\t<tr><td>M   </td><td>II  </td><td>A   </td><td>4593</td></tr>\n",
       "\t<tr><td>F   </td><td>I   </td><td>A   </td><td>9035</td></tr>\n",
       "\t<tr><td>M   </td><td>II  </td><td>B   </td><td>3450</td></tr>\n",
       "\t<tr><td>F   </td><td>II  </td><td>B   </td><td>3524</td></tr>\n",
       "\t<tr><td>M   </td><td>I   </td><td>B   </td><td> 958</td></tr>\n",
       "\t<tr><td>F   </td><td>II  </td><td>B   </td><td>1054</td></tr>\n",
       "\t<tr><td>M   </td><td>II  </td><td>P   </td><td>8674</td></tr>\n",
       "\t<tr><td>F   </td><td>I   </td><td>P   </td><td>3424</td></tr>\n",
       "\t<tr><td>M   </td><td>II  </td><td>P   </td><td> 463</td></tr>\n",
       "\t<tr><td>F   </td><td>II  </td><td>P   </td><td>5105</td></tr>\n",
       "</tbody>\n",
       "</table>\n"
      ],
      "text/latex": [
       "\\begin{tabular}{r|llll}\n",
       " a & b & c & d\\\\\n",
       "\\hline\n",
       "\t M    & I    & A    & 2343\\\\\n",
       "\t F    & II   & A    &  457\\\\\n",
       "\t M    & II   & A    & 4593\\\\\n",
       "\t F    & I    & A    & 9035\\\\\n",
       "\t M    & II   & B    & 3450\\\\\n",
       "\t F    & II   & B    & 3524\\\\\n",
       "\t M    & I    & B    &  958\\\\\n",
       "\t F    & II   & B    & 1054\\\\\n",
       "\t M    & II   & P    & 8674\\\\\n",
       "\t F    & I    & P    & 3424\\\\\n",
       "\t M    & II   & P    &  463\\\\\n",
       "\t F    & II   & P    & 5105\\\\\n",
       "\\end{tabular}\n"
      ],
      "text/markdown": [
       "\n",
       "| a | b | c | d |\n",
       "|---|---|---|---|\n",
       "| M    | I    | A    | 2343 |\n",
       "| F    | II   | A    |  457 |\n",
       "| M    | II   | A    | 4593 |\n",
       "| F    | I    | A    | 9035 |\n",
       "| M    | II   | B    | 3450 |\n",
       "| F    | II   | B    | 3524 |\n",
       "| M    | I    | B    |  958 |\n",
       "| F    | II   | B    | 1054 |\n",
       "| M    | II   | P    | 8674 |\n",
       "| F    | I    | P    | 3424 |\n",
       "| M    | II   | P    |  463 |\n",
       "| F    | II   | P    | 5105 |\n",
       "\n"
      ],
      "text/plain": [
       "   a b  c d   \n",
       "1  M I  A 2343\n",
       "2  F II A  457\n",
       "3  M II A 4593\n",
       "4  F I  A 9035\n",
       "5  M II B 3450\n",
       "6  F II B 3524\n",
       "7  M I  B  958\n",
       "8  F II B 1054\n",
       "9  M II P 8674\n",
       "10 F I  P 3424\n",
       "11 M II P  463\n",
       "12 F II P 5105"
      ]
     },
     "metadata": {},
     "output_type": "display_data"
    }
   ],
   "source": [
    "new_meta <- meta\n",
    "names(new_meta) <- c(\"a\", \"b\", \"c\", \"d\")\n",
    "new_meta"
   ]
  },
  {
   "cell_type": "code",
   "execution_count": null,
   "id": "e55dcf9f",
   "metadata": {},
   "outputs": [],
   "source": []
  }
 ],
 "metadata": {
  "kernelspec": {
   "display_name": "R",
   "language": "R",
   "name": "ir"
  },
  "language_info": {
   "codemirror_mode": "r",
   "file_extension": ".r",
   "mimetype": "text/x-r-source",
   "name": "R",
   "pygments_lexer": "r",
   "version": "3.6.1"
  }
 },
 "nbformat": 4,
 "nbformat_minor": 5
}
