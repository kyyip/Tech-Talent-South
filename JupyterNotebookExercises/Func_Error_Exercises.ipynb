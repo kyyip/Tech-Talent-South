{
 "cells": [
  {
   "cell_type": "markdown",
   "metadata": {},
   "source": [
    "Data Science Fundamentals: Python |\n",
    "[Table of Contents](../index.ipynb)\n",
    "- - - \n",
    "<!--NAVIGATION-->\n",
    "Module 4. [Defining Functions](./01_mod_defining_functions.ipynb) | [Errors And Exceptions](./02_mod_errors_and_exceptions.ipynb) | [Reference: Functions and Modules](./03_Functions_and_Modules.ipynb) | **[Exercises](./04_func_error_exercises.ipynb)**"
   ]
  },
  {
   "cell_type": "markdown",
   "metadata": {},
   "source": [
    "# Module 4: Functions and Error Exercises"
   ]
  },
  {
   "cell_type": "markdown",
   "metadata": {},
   "source": [
    "## Exercise 1:\n",
    "\n",
    "We add a Leap Day on February 29, almost every four years. The leap day is an extra, or intercalary day and we add it to the shortest month of the year, February.  \n",
    "\n",
    "[See Hacker Rank Problem](https://www.hackerrank.com/challenges/write-a-function/problem)\n",
    "\n",
    "In the Gregorian calendar three criteria must be taken into account to identify leap years:\n",
    "\n",
    "- The year can be evenly divided by 4, is a leap year, unless:\n",
    "- The year can be evenly divided by 100, it is NOT a leap year, unless:\n",
    "- The year is also evenly divisible by 400. Then it is a leap year.\n",
    "\n",
    "This means that in the Gregorian calendar, the years 2000 and 2400 are leap years, while 1800, 1900, 2100, 2200, 2300 and 2500 are NOT leap years.\n",
    "#### Task\n",
    "You are given the year, and you have to write a function to check if the year is leap or not.  Simply answer if TRUE or FALSE. \n",
    "\n",
    "Note that you have to complete the function and remaining code is given as template.\n",
    "\n",
    "**Input Format**\n",
    "\n",
    "Read `year`, the year that needs to be checked.\n",
    "\n",
    "**Output Format**\n",
    "\n",
    "Output is taken care of by the template. Your function must return a boolean value (True/False)"
   ]
  },
  {
   "cell_type": "code",
   "execution_count": null,
   "metadata": {},
   "outputs": [],
   "source": [
    "# Python Program to Check Leap Year using Elif Statement\n",
    "# This is not correct answer only example\n",
    "\n",
    "year = int(input(\"Please Enter the Year Number you wish: \"))\n",
    "\n",
    "if (year%400 == 0):\n",
    "          print(\"%d is a Leap Year\" %year)\n",
    "elif (year%100 == 0):\n",
    "          print(\"%d is Not a Leap Year\" %year)\n",
    "elif (year%4 == 0):\n",
    "          print(\"%d is a Leap Year\" %year)\n",
    "else:\n",
    "          print(\"%d is Not a Leap Year\" %year)"
   ]
  },
  {
   "cell_type": "code",
   "execution_count": 4,
   "metadata": {},
   "outputs": [
    {
     "name": "stdout",
     "output_type": "stream",
     "text": [
      "1900 False\n",
      "2012 True\n",
      "2000 True\n"
     ]
    }
   ],
   "source": [
    "#my code\n",
    "def leap(year):\n",
    "    if year%400 == 0 or (year%4 == 0 and year%100 != 0):\n",
    "        return True\n",
    "    else:\n",
    "        return False\n",
    "        \n",
    "print(1900, leap(1900))\n",
    "print(2012, leap(2012))\n",
    "print(2000, leap(2000))"
   ]
  },
  {
   "cell_type": "markdown",
   "metadata": {},
   "source": [
    "[Submit Solution to Hacker Rank](https://www.hackerrank.com/challenges/write-a-function/submissions)"
   ]
  },
  {
   "cell_type": "markdown",
   "metadata": {},
   "source": [
    "## Exercise 2:\n",
    "\n",
    "### Exceptions\n",
    "\n",
    "Errors detected during execution are called exceptions.\n",
    "\n",
    "[See Hacker Rank Problem](https://www.hackerrank.com/challenges/exceptions/problem)\n",
    "\n",
    "Examples:\n",
    "\n",
    "**ZeroDivisionError** <br>\n",
    "This error is raised when the second argument of a division or modulo operation is zero."
   ]
  },
  {
   "cell_type": "code",
   "execution_count": null,
   "metadata": {},
   "outputs": [],
   "source": [
    "a = '1'\n",
    "b = '0'\n",
    "print(int(a) / int(b))\n",
    "# ZeroDivisionError: integer division or modulo by zero"
   ]
  },
  {
   "cell_type": "markdown",
   "metadata": {},
   "source": [
    "**ValueError**\n",
    "<br>\n",
    "This error is raised when a built-in operation or function receives an argument that has the right type but an inappropriate value."
   ]
  },
  {
   "cell_type": "code",
   "execution_count": null,
   "metadata": {},
   "outputs": [],
   "source": [
    "a = '1'\n",
    "b = '#'\n",
    "print(int(a)/int(b))\n",
    "# ValueError: invalid literal for int() with base 10: '#'"
   ]
  },
  {
   "cell_type": "markdown",
   "metadata": {},
   "source": [
    "### Handling Exceptions\n",
    "\n",
    "The statements try and except can be used to handle selected exceptions. A try statement may have more than one except clause to specify handlers for different exceptions."
   ]
  },
  {
   "cell_type": "raw",
   "metadata": {},
   "source": [
    "#Code\n",
    "try:\n",
    "    print 1/0\n",
    "except ZeroDivisionError as e:\n",
    "    print \"Error Code:\",e"
   ]
  },
  {
   "cell_type": "markdown",
   "metadata": {},
   "source": [
    "**Output**\n",
    "\n",
    "Error Code: integer division or modulo by zero"
   ]
  },
  {
   "cell_type": "markdown",
   "metadata": {},
   "source": [
    "**Task**\n",
    "\n",
    "You are given two values a and b.\n",
    "Perform integer division and print a/b.\n",
    "\n",
    "**Input Format**\n",
    "\n",
    "The first line contains T, the number of test cases.\n",
    "The next T lines each contain the space separated values of a and b.\n",
    "\n",
    "**Output Format**\n",
    "\n",
    "Print the value of a/b.\n",
    "In the case of ZeroDivisionError or ValueError, print the error code."
   ]
  },
  {
   "cell_type": "markdown",
   "metadata": {},
   "source": [
    "**Sample Input**"
   ]
  },
  {
   "cell_type": "raw",
   "metadata": {},
   "source": [
    "3\n",
    "1 0\n",
    "2 $\n",
    "3 1"
   ]
  },
  {
   "cell_type": "markdown",
   "metadata": {},
   "source": [
    "**Sample Output**"
   ]
  },
  {
   "cell_type": "raw",
   "metadata": {},
   "source": [
    "Error Code: integer division or modulo by zero\n",
    "Error Code: invalid literal for int() with base 10: '$'\n",
    "3"
   ]
  },
  {
   "cell_type": "code",
   "execution_count": 4,
   "metadata": {},
   "outputs": [
    {
     "name": "stdout",
     "output_type": "stream",
     "text": [
      "0.5\n",
      "Error Code: division by zero\n",
      "Error Code: invalid literal for int() with base 10: 'asdf'\n"
     ]
    }
   ],
   "source": [
    "#my code\n",
    "def divide(a, b):\n",
    "    try:\n",
    "        print(int(a)/int(b))\n",
    "    except (ZeroDivisionError, ValueError) as e:\n",
    "        print(\"Error Code:\",e)\n",
    "\n",
    "divide(1,2)\n",
    "divide(3,0)\n",
    "divide(2,'asdf')\n"
   ]
  },
  {
   "cell_type": "markdown",
   "metadata": {},
   "source": [
    "[Submit Solution To Hacker Rank](https://www.hackerrank.com/challenges/exceptions/submissions)"
   ]
  },
  {
   "cell_type": "markdown",
   "metadata": {},
   "source": [
    "## Submissions\n",
    "\n",
    "Take two screenshots showing your completed solution to both exercises and upload those images as your submission.  [Submit your screenshots here](https://titus.techtalentsouth.com/mod/assign/view.php?id=44990)"
   ]
  },
  {
   "cell_type": "markdown",
   "metadata": {},
   "source": [
    "\n",
    "## Extra Points\n",
    "- - -"
   ]
  },
  {
   "cell_type": "markdown",
   "metadata": {},
   "source": [
    "1. ***Optional Exercise (Extra Points)*** Iterate over a list of over 10 numbers.  This list is made from user input, and might not have 10 numbers in it. After you reach the end of the list, make the rest of the numbers to be interpreted as a 0."
   ]
  },
  {
   "cell_type": "code",
   "execution_count": 9,
   "metadata": {},
   "outputs": [
    {
     "name": "stdout",
     "output_type": "stream",
     "text": [
      "Please input 10 numbers. After your 10th number, type \"done\" to finish your list.234\n",
      "Please input 10 numbers. After your 10th number, type \"done\" to finish your list.s\n",
      "Sorry, that's not a valid number\n",
      "Please input 10 numbers. After your 10th number, type \"done\" to finish your list.15\n",
      "Please input 10 numbers. After your 10th number, type \"done\" to finish your list.2\n",
      "Please input 10 numbers. After your 10th number, type \"done\" to finish your list.3\n",
      "Please input 10 numbers. After your 10th number, type \"done\" to finish your list.6\n",
      "Please input 10 numbers. After your 10th number, type \"done\" to finish your list.2\n",
      "Please input 10 numbers. After your 10th number, type \"done\" to finish your list.1\n",
      "Please input 10 numbers. After your 10th number, type \"done\" to finish your list.352\n",
      "Please input 10 numbers. After your 10th number, type \"done\" to finish your list.5\n",
      "Please input 10 numbers. After your 10th number, type \"done\" to finish your list.235\n",
      "Please input 10 numbers. After your 10th number, type \"done\" to finish your list.12\n",
      "Please input 10 numbers. After your 10th number, type \"done\" to finish your list.3\n",
      "Please input 10 numbers. After your 10th number, type \"done\" to finish your list.6\n",
      "Please input 10 numbers. After your 10th number, type \"done\" to finish your list.done\n",
      "234.0\n",
      "15.0\n",
      "2.0\n",
      "3.0\n",
      "6.0\n",
      "2.0\n",
      "1.0\n",
      "352.0\n",
      "5.0\n",
      "235.0\n",
      "0\n",
      "0\n",
      "0\n"
     ]
    }
   ],
   "source": [
    "some_list = []\n",
    "while True:\n",
    "    n = str(input('Please input 10 numbers. After your 10th number, type \"done\" to finish your list.'))\n",
    "    if n == \"done\":\n",
    "        break\n",
    "    else:\n",
    "        try:\n",
    "            some_list.append(float(n))\n",
    "        except:\n",
    "            print(\"Sorry, that's not a valid number\")\n",
    "for i in range(len(some_list)):\n",
    "    if i < 10:\n",
    "        print(some_list[i])\n",
    "    else:\n",
    "        print(0)\n",
    "            "
   ]
  },
  {
   "cell_type": "markdown",
   "metadata": {},
   "source": [
    "2. ***Optional Exercise (Extra Points)***  Try to access an array element whose index is out of bound and handle the corresponding exception. Write the Python program to handle simple runtime error."
   ]
  },
  {
   "cell_type": "code",
   "execution_count": 6,
   "metadata": {},
   "outputs": [
    {
     "name": "stdout",
     "output_type": "stream",
     "text": [
      "That's out of index amigo!\n"
     ]
    }
   ],
   "source": [
    "boi = [1,2,3]\n",
    "try:\n",
    "    print(boi[3])\n",
    "except:\n",
    "    print(\"That's out of index amigo!\")"
   ]
  },
  {
   "cell_type": "markdown",
   "metadata": {},
   "source": [
    "3. ***Optional Exercise (Extra Points)***. Given a list iterate it and display numbers which are divisible by 5 and if you find number greater than 150 stop the loop iteration."
   ]
  },
  {
   "cell_type": "code",
   "execution_count": 7,
   "metadata": {},
   "outputs": [
    {
     "name": "stdout",
     "output_type": "stream",
     "text": [
      "25\n",
      "40\n",
      "635\n"
     ]
    }
   ],
   "source": [
    "def some_func(list):\n",
    "    for i in list:\n",
    "        if i%5 == 0:\n",
    "            print(i)\n",
    "        if i > 150:\n",
    "            break\n",
    "\n",
    "some_func([123,25,40,101,52,635,10,74])"
   ]
  },
  {
   "cell_type": "markdown",
   "metadata": {},
   "source": [
    "- - -\n",
    "\n",
    "Module 4. [Defining Functions](./01_mod_defining_functions.ipynb) | [Errors And Exceptions](./02_mod_errors_and_exceptions.ipynb) | [Functions and Modules](./03_Functions_and_Modules.ipynb) | **[Exercises](./04_func_error_exercises.ipynb)**"
   ]
  },
  {
   "cell_type": "markdown",
   "metadata": {},
   "source": [
    "- - -\n",
    "\n",
    "Copyright © 2020 Qualex Consulting Services Incorporated."
   ]
  }
 ],
 "metadata": {
  "kernelspec": {
   "display_name": "Python 3",
   "language": "python",
   "name": "python3"
  },
  "language_info": {
   "codemirror_mode": {
    "name": "ipython",
    "version": 3
   },
   "file_extension": ".py",
   "mimetype": "text/x-python",
   "name": "python",
   "nbconvert_exporter": "python",
   "pygments_lexer": "ipython3",
   "version": "3.8.8"
  }
 },
 "nbformat": 4,
 "nbformat_minor": 4
}
