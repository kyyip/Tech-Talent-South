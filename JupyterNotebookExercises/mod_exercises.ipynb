{
 "cells": [
  {
   "cell_type": "markdown",
   "metadata": {},
   "source": [
    "Data Science Fundamentals: Python |\n",
    "[Table of Contents](../index.ipynb)\n",
    "- - - \n",
    "<!--NAVIGATION-->\n",
    "Module 3. [Control Flow](./01_mod_control_flow.ipynb) | [Statements](./02_python_statements.ipynb) | [Functions](./03_python_functions.ipynb) | **[Exercises](./04_mod_exercises.ipynb)**"
   ]
  },
  {
   "cell_type": "markdown",
   "metadata": {},
   "source": [
    "# Control Flow Exercises"
   ]
  },
  {
   "cell_type": "markdown",
   "metadata": {},
   "source": [
    "### Exercise 1:\n",
    "Guess a number between 1 to 9 given by the user. Hint. [Random](https://docs.python.org/3/library/random.html)"
   ]
  },
  {
   "cell_type": "code",
   "execution_count": 2,
   "metadata": {},
   "outputs": [
    {
     "name": "stdout",
     "output_type": "stream",
     "text": [
      "guess a number between 1 and 10 until you get it correct1\n",
      "nope! Guess again\n",
      "guess a number between 1 and 10 until you get it correct2\n",
      "nope! Guess again\n",
      "guess a number between 1 and 10 until you get it correct3\n",
      "nope! Guess again\n",
      "guess a number between 1 and 10 until you get it correct4\n",
      "nope! Guess again\n",
      "guess a number between 1 and 10 until you get it correct5\n",
      "nope! Guess again\n",
      "guess a number between 1 and 10 until you get it correct6\n",
      "nope! Guess again\n",
      "guess a number between 1 and 10 until you get it correct7\n",
      "nope! Guess again\n",
      "guess a number between 1 and 10 until you get it correct8\n",
      "nope! Guess again\n",
      "guess a number between 1 and 10 until you get it correct9\n",
      "nope! Guess again\n",
      "Good job you guessed the number!\n"
     ]
    }
   ],
   "source": [
    "##### this imports a random integer generator, aliased as \"rng\".\n",
    "from random import randint as rng\n",
    "#Here, a random number (randNum) can be assigned using rng(1,9) specifying the start and end points as 1 to 9.\n",
    "randNum = rng(1,9)\n",
    "guess = 0\n",
    "while randNum != guess:\n",
    "    guess = int(input(\"guess a number between 1 and 10 until you get it correct\"))\n",
    "    print(\"nope! Guess again\")\n",
    "print(\"Good job you guessed the number!\")\n"
   ]
  },
  {
   "cell_type": "markdown",
   "metadata": {},
   "source": [
    "### Exercise 2:\n",
    "Check the validity of password input by the user. Hint. [Re](https://docs.python.org/3/library/re.html) which does matching operations much like Perl.\n",
    "\n",
    "Validation:\n",
    "\n",
    "- At least 1 letter between [a-z] and 1 letter between [A-Z].\n",
    "- At least 1 number between [0-9].\n",
    "- At least 1 character from [$#@].\n",
    "- Minimum length 6 characters.\n",
    "- Maximum length 16 characters."
   ]
  },
  {
   "cell_type": "code",
   "execution_count": 36,
   "metadata": {},
   "outputs": [
    {
     "name": "stdout",
     "output_type": "stream",
     "text": [
      "Please enter a valid password:\n",
      "Valid passwords are:\n",
      "\t6-16 characters in length,\n",
      "\tContain 1+ numbers,\n",
      "\t1+ character from [$#@!], and \n",
      "\tAt least 1 upper and 1 lowercase letter.\n",
      "Input: wfjFSI3#\n",
      "Your password is valid\n"
     ]
    }
   ],
   "source": [
    "#This exercise is difficult for beginners, as it utilizes Regex. If you don't get it at first, thats okay, do your best.\n",
    "import re\n",
    "pwd = input('Please enter a valid password:\\nValid passwords are:\\n\\t6-16 characters in length,\\n\\tContain 1+ numbers,\\n\\t1+ character from [$#@!], and \\n\\tAt least 1 upper and 1 lowercase letter.\\nInput: ')\n",
    "t1 = re.search(\"[a-z]\", pwd)\n",
    "t2 = re.search(\"[A-Z]\", pwd)\n",
    "t3 = re.search(\"[$#@]\", pwd)\n",
    "t4 = (len(pwd) >= 6 and len(pwd) <= 16)\n",
    "if t1 and t2 and t3 and t4:\n",
    "    print(\"Your password is valid\")\n",
    "else:\n",
    "    print(\"Your password is invalid\")\n",
    "\n",
    "    "
   ]
  },
  {
   "cell_type": "markdown",
   "metadata": {},
   "source": [
    "### Exercise 3:\n",
    "Get input of the age of 3 people by user and determine oldest and youngest among them"
   ]
  },
  {
   "cell_type": "code",
   "execution_count": 48,
   "metadata": {},
   "outputs": [
    {
     "name": "stdout",
     "output_type": "stream",
     "text": [
      "Enter First Person's Age : 4\n",
      "Enter Second Person's Age : 1\n",
      "Enter Third Person's Age : 2\n",
      "The oldest is person number 1!\n",
      "The youngest is person number 2!\n"
     ]
    }
   ],
   "source": [
    "number1 = int(input(\"Enter First Person's Age : \"))\n",
    "number2 = int(input(\"Enter Second Person's Age : \"))\n",
    "number3 = int(input(\"Enter Third Person's Age : \"))\n",
    "ages = [number1, number2, number3]\n",
    "\n",
    "print(\"The oldest is person number {}!\".format(ages.index(max(ages))+1))\n",
    "print(\"The youngest is person number {}!\".format(ages.index(min(ages))+1))"
   ]
  },
  {
   "cell_type": "markdown",
   "metadata": {},
   "source": [
    "### Exercise 4:\n",
    "A student will not be allowed to sit in exam if his/her attendance is less than 75%.\n",
    "\n",
    "Take following input from user\n",
    "\n",
    "- Number of classes held\n",
    "- Number of classes attended.\n",
    "- And print percentage of class attended\n",
    "- Is student is allowed to sit in exam or not?"
   ]
  },
  {
   "cell_type": "code",
   "execution_count": 16,
   "metadata": {},
   "outputs": [
    {
     "name": "stdout",
     "output_type": "stream",
     "text": [
      "How many classes were held?6\n",
      "How many classes were attended?4\n",
      "The student attended 66.66666666666666% of all classes\n",
      "Get outta here!\n"
     ]
    }
   ],
   "source": [
    "#number of classes held:\n",
    "\n",
    "held = int(input(\"How many classes were held?\"))\n",
    "#number of classes attended:\n",
    "\n",
    "attended = int(input(\"How many classes were attended?\"))\n",
    "#percentage of classes\n",
    "percent = attended/held * 100\n",
    "print(\"The student attended {}% of all classes\".format(percent))\n",
    "#Is student allowed to sit in exam?\n",
    "if percent >= 75.0:\n",
    "    print(\"You can attend the exam\")\n",
    "else:\n",
    "    print(\"Get outta here!\")"
   ]
  },
  {
   "cell_type": "markdown",
   "metadata": {},
   "source": [
    "### Exercise 5:\n",
    "Get an integer N from the user and perform the following actions:\n",
    "\n",
    "Find out - \n",
    "- if N is odd, print \"weird\"\n",
    "- if N is even and in the inclusive range of 2 to 5, print \"Not Weird\"\n",
    "- if N is even and in the inclusive range of 6 to 20, print \"Weird\"\n",
    "- if N is even and greater than 20, print \"Not Weird\""
   ]
  },
  {
   "cell_type": "code",
   "execution_count": 49,
   "metadata": {},
   "outputs": [
    {
     "name": "stdout",
     "output_type": "stream",
     "text": [
      "integer please24\n",
      "Not Weird\n"
     ]
    }
   ],
   "source": [
    "# Given an integer, n, perform the following conditional actions:\n",
    "# If n is odd, print Weird\n",
    "# If n is even and in the inclusive range of 2 to 5, print Not Weird\n",
    "# If n is even and in the inclusive range of 6 to 20, print Weird\n",
    "# If n is even and greater than 20, print Not Weird\n",
    "def n_check(n):\n",
    "    if n%2 == 1 or (n>=6 and n<=20):\n",
    "        print(\"Weird\")\n",
    "    else:\n",
    "        print(\"Not Weird\")\n",
    "\n",
    "n_check(int(input(\"integer please\")))"
   ]
  },
  {
   "cell_type": "markdown",
   "metadata": {},
   "source": [
    "\n",
    "## Extra Points\n",
    "- - -"
   ]
  },
  {
   "cell_type": "markdown",
   "metadata": {},
   "source": [
    "1. ***Optional Exercise (Extra Points)***. Write a Python program to reverse a string."
   ]
  },
  {
   "cell_type": "raw",
   "metadata": {},
   "source": [
    "Sample String : \"1234abcd\"\n",
    "Expected Output : \"dcba4321\""
   ]
  },
  {
   "cell_type": "code",
   "execution_count": 28,
   "metadata": {},
   "outputs": [
    {
     "name": "stdout",
     "output_type": "stream",
     "text": [
      "syug yeh\n"
     ]
    }
   ],
   "source": [
    "def reverse_str(string):\n",
    "    newstring = \"\"\n",
    "    for i in range(len(string)):\n",
    "        newstring += string[-i-1]\n",
    "    return(newstring)\n",
    "\n",
    "print(reverse_str(\"hey guys\"))"
   ]
  },
  {
   "cell_type": "markdown",
   "metadata": {},
   "source": [
    "2. ***Optional Exercise (Extra Points)***. Write a Python function to multiply all the numbers in a list. "
   ]
  },
  {
   "cell_type": "raw",
   "metadata": {},
   "source": [
    "Sample List : (8, 2, 3, -1, 7)\n",
    "Expected Output : -336"
   ]
  },
  {
   "cell_type": "code",
   "execution_count": 34,
   "metadata": {},
   "outputs": [
    {
     "name": "stdout",
     "output_type": "stream",
     "text": [
      "-45.0\n"
     ]
    }
   ],
   "source": [
    "def mult_list(list):\n",
    "    n = 1\n",
    "    for i in list:\n",
    "        n *= i\n",
    "    return n\n",
    "\n",
    "print(mult_list([1,2,3,-3,2.5]))"
   ]
  },
  {
   "cell_type": "markdown",
   "metadata": {},
   "source": [
    "3. ***Optional Exercise (Extra Points)***. Write a Python function that accepts a string and calculate the number of upper case letters and lower case letters."
   ]
  },
  {
   "cell_type": "raw",
   "metadata": {},
   "source": [
    "Sample String : 'The quick Brow Fox'\n",
    "Expected Output :\n",
    "No. of Upper case characters : 3\n",
    "No. of Lower case Characters : 12"
   ]
  },
  {
   "cell_type": "code",
   "execution_count": 42,
   "metadata": {},
   "outputs": [
    {
     "name": "stdout",
     "output_type": "stream",
     "text": [
      "Your string has 3 uppercase characters and 82 lowercase characters\n"
     ]
    }
   ],
   "source": [
    "def upper_lower(string):\n",
    "    print(\"Your string has {} uppercase characters and {} lowercase characters\".format(len(re.findall(\"[A-Z]\",string)), \n",
    "                                                                                       len(re.findall(\"[a-z]\",string))))\n",
    "upper_lower(\"Mother is juicing watermelons on the breakfast island, and with frail hands she grips the NutriBullet\")"
   ]
  },
  {
   "cell_type": "markdown",
   "metadata": {},
   "source": [
    "- - -\n",
    "\n",
    "Copyright © 2020 Qualex Consulting Services Incorporated."
   ]
  }
 ],
 "metadata": {
  "kernelspec": {
   "display_name": "Python 3",
   "language": "python",
   "name": "python3"
  },
  "language_info": {
   "codemirror_mode": {
    "name": "ipython",
    "version": 3
   },
   "file_extension": ".py",
   "mimetype": "text/x-python",
   "name": "python",
   "nbconvert_exporter": "python",
   "pygments_lexer": "ipython3",
   "version": "3.8.8"
  }
 },
 "nbformat": 4,
 "nbformat_minor": 4
}
