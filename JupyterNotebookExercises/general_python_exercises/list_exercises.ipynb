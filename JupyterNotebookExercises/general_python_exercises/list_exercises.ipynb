{
 "cells": [
  {
   "cell_type": "markdown",
   "metadata": {},
   "source": [
    "Data Science Fundamentals: Python |\n",
    "[Table of Contents](../index.ipynb)\n",
    "- - - \n",
    "<!--NAVIGATION-->\n",
    "Module 5. | [Iterators](./01_iterators.ipynb) | [List Comprehension](./02_list_comprehension.ipynb) | [Generators](./03_generators.ipynb) | **[Exercises](./04_list_exercises.ipynb)**"
   ]
  },
  {
   "cell_type": "markdown",
   "metadata": {},
   "source": [
    "# Module 5: Practice Exercises"
   ]
  },
  {
   "cell_type": "markdown",
   "metadata": {},
   "source": [
    "## Exercise 1\n",
    "\n",
    "Exercise to create a tool that computes the cartesian product of input iterables.  It is equivalent to nested for-loops. For example, product(A, B) returns the same as ((x,y) for x in A for y in B). [See Hacker Rank Problem](https://www.hackerrank.com/challenges/itertools-product/problem)\n",
    "\n",
    "What is a **cartesian product**?\n",
    "\n",
    "In mathematics, specifically set theory, the Cartesian product of two sets A and B, denoted A × B, is the set of all ordered pairs where a is in A and b is in B."
   ]
  },
  {
   "cell_type": "raw",
   "metadata": {},
   "source": [
    "itertools.product()"
   ]
  },
  {
   "cell_type": "markdown",
   "metadata": {},
   "source": [
    "**Sample Code** "
   ]
  },
  {
   "cell_type": "raw",
   "metadata": {},
   "source": [
    ">>> from itertools import product\n",
    ">>>\n",
    ">>> print list(product([1,2,3],repeat = 2))\n",
    "[(1, 1), (1, 2), (1, 3), (2, 1), (2, 2), (2, 3), (3, 1), (3, 2), (3, 3)]\n",
    ">>>\n",
    ">>> print list(product([1,2,3],[3,4]))\n",
    "[(1, 3), (1, 4), (2, 3), (2, 4), (3, 3), (3, 4)]\n",
    ">>>\n",
    ">>> A = [[1,2,3],[3,4,5]]\n",
    ">>> print list(product(*A))\n",
    "[(1, 3), (1, 4), (1, 5), (2, 3), (2, 4), (2, 5), (3, 3), (3, 4), (3, 5)]\n",
    ">>>\n",
    ">>> B = [[1,2,3],[3,4,5],[7,8]]\n",
    ">>> print list(product(*B))\n",
    "[(1, 3, 7), (1, 3, 8), (1, 4, 7), (1, 4, 8), (1, 5, 7), (1, 5, 8), (2, 3, 7), (2, 3, 8), (2, 4, 7), (2, 4, 8), (2, 5, 7), (2, 5, 8), (3, 3, 7), (3, 3, 8), (3, 4, 7), (3, 4, 8), (3, 5, 7), (3, 5, 8)]"
   ]
  },
  {
   "cell_type": "markdown",
   "metadata": {},
   "source": [
    "**Task**\n",
    "\n",
    "You are given a two lists A and B. Your task is to compute their cartesian product A X B."
   ]
  },
  {
   "cell_type": "markdown",
   "metadata": {},
   "source": [
    "**Example**"
   ]
  },
  {
   "cell_type": "raw",
   "metadata": {},
   "source": [
    "A = [1, 2]\n",
    "B = [3, 4]\n",
    "\n",
    "AxB = [(1, 3), (1, 4), (2, 3), (2, 4)]"
   ]
  },
  {
   "cell_type": "markdown",
   "metadata": {},
   "source": [
    "Note:  and  are sorted lists, and the cartesian product's tuples should be output in sorted order."
   ]
  },
  {
   "cell_type": "markdown",
   "metadata": {},
   "source": [
    "**Input Format**\n",
    "\n",
    "The first line contains the space separated elements of list A.\n",
    "The second line contains the space separated elements of list B.\n",
    "\n",
    "Both lists have no duplicate integer elements."
   ]
  },
  {
   "cell_type": "markdown",
   "metadata": {},
   "source": [
    "**Constraints**\n",
    "\n",
    "0 < A < 30\n",
    "\n",
    "0 < B < 30"
   ]
  },
  {
   "cell_type": "markdown",
   "metadata": {},
   "source": [
    "\n",
    "#### List Lengths\n",
    "- Copy two or three of the lists you made from the previous exercises, or make up two or three new lists.\n",
    "- Print out a series of statements that tell us how long each list is."
   ]
  },
  {
   "cell_type": "markdown",
   "metadata": {},
   "source": [
    "**Sample Input**"
   ]
  },
  {
   "cell_type": "raw",
   "metadata": {},
   "source": [
    " 1 2\n",
    " 3 4"
   ]
  },
  {
   "cell_type": "markdown",
   "metadata": {},
   "source": [
    "**Sample Output**"
   ]
  },
  {
   "cell_type": "raw",
   "metadata": {},
   "source": [
    " (1, 3) (1, 4) (2, 3) (2, 4)"
   ]
  },
  {
   "cell_type": "code",
   "execution_count": 1,
   "metadata": {},
   "outputs": [
    {
     "name": "stdout",
     "output_type": "stream",
     "text": [
      "List a is 4 entries long\n",
      "List b is 2 entries long\n",
      "(1, 2)\n",
      "(1, 5)\n",
      "(2, 2)\n",
      "(2, 5)\n",
      "(3, 2)\n",
      "(3, 5)\n",
      "(4, 2)\n",
      "(4, 5)\n"
     ]
    }
   ],
   "source": [
    "from itertools import product\n",
    "def cartprod(a, b):\n",
    "    products = list(product(a,b))\n",
    "    products.sort()\n",
    "    print('List a is {} entries long'.format(len(a)))\n",
    "    print('List b is {} entries long'.format(len(b)))\n",
    "    for prod in products:\n",
    "        print(prod)\n",
    "\n",
    "cartprod([1,2,3,4],[5,2])"
   ]
  },
  {
   "cell_type": "markdown",
   "metadata": {},
   "source": [
    "[Submit Solution to Hacker Rank](https://www.hackerrank.com/challenges/itertools-product/submissions)"
   ]
  },
  {
   "cell_type": "markdown",
   "metadata": {},
   "source": [
    "## Exercise 2\n",
    "\n",
    "This exercise wants you to create a tool which returns successive ***r*** length permutations of elements in an iterable. If ***r*** is not specified or is None, then ***r*** defaults to the length of the iterable, and all possible full length permutations are generated. Permutations are printed in a lexicographic sorted order. So, if the input iterable is sorted, the permutation tuples will be produced in a sorted order. [See Hacker Rank Problem](https://www.hackerrank.com/challenges/itertools-permutations/problem)"
   ]
  },
  {
   "cell_type": "raw",
   "metadata": {},
   "source": [
    "itertools.permutations(iterable[, r])"
   ]
  },
  {
   "cell_type": "markdown",
   "metadata": {},
   "source": [
    "**Sample Code**"
   ]
  },
  {
   "cell_type": "raw",
   "metadata": {},
   "source": [
    ">>> from itertools import permutations\n",
    ">>> print permutations(['1','2','3'])\n",
    "<itertools.permutations object at 0x02A45210>\n",
    ">>> \n",
    ">>> print list(permutations(['1','2','3']))\n",
    "[('1', '2', '3'), ('1', '3', '2'), ('2', '1', '3'), ('2', '3', '1'), ('3', '1', '2'), ('3', '2', '1')]\n",
    ">>> \n",
    ">>> print list(permutations(['1','2','3'],2))\n",
    "[('1', '2'), ('1', '3'), ('2', '1'), ('2', '3'), ('3', '1'), ('3', '2')]\n",
    ">>>\n",
    ">>> print list(permutations('abc',3))\n",
    "[('a', 'b', 'c'), ('a', 'c', 'b'), ('b', 'a', 'c'), ('b', 'c', 'a'), ('c', 'a', 'b'), ('c', 'b', 'a')]"
   ]
  },
  {
   "cell_type": "markdown",
   "metadata": {},
   "source": [
    "**Task**\n",
    "\n",
    "You are given a string ***S***.\n",
    "\n",
    "Your task is to print all possible permutations of size ***k*** of the string in lexicographic sorted order."
   ]
  },
  {
   "cell_type": "markdown",
   "metadata": {},
   "source": [
    "**Input Format**\n",
    "\n",
    "A single line containing the space separated string ***S*** and the integer value ***k***."
   ]
  },
  {
   "cell_type": "markdown",
   "metadata": {},
   "source": [
    "**Constraints**"
   ]
  },
  {
   "cell_type": "raw",
   "metadata": {},
   "source": [
    "0 < k ≤ len(S)"
   ]
  },
  {
   "cell_type": "markdown",
   "metadata": {},
   "source": [
    "The string contains only UPPERCASE characters."
   ]
  },
  {
   "cell_type": "markdown",
   "metadata": {},
   "source": [
    "**Output Format**"
   ]
  },
  {
   "cell_type": "markdown",
   "metadata": {},
   "source": [
    "Print the permutations of the string ***S*** on separate lines."
   ]
  },
  {
   "cell_type": "markdown",
   "metadata": {},
   "source": [
    "**Sample Input**"
   ]
  },
  {
   "cell_type": "raw",
   "metadata": {},
   "source": [
    "HACK 2"
   ]
  },
  {
   "cell_type": "markdown",
   "metadata": {},
   "source": [
    "**Sample Output**"
   ]
  },
  {
   "cell_type": "raw",
   "metadata": {},
   "source": [
    "AC\n",
    "AH\n",
    "AK\n",
    "CA\n",
    "CH\n",
    "CK\n",
    "HA\n",
    "HC\n",
    "HK\n",
    "KA\n",
    "KC\n",
    "KH"
   ]
  },
  {
   "cell_type": "markdown",
   "metadata": {},
   "source": [
    "**Explanation**"
   ]
  },
  {
   "cell_type": "markdown",
   "metadata": {},
   "source": [
    "All possible size 2 permutations of the string \"HACK\" are printed in lexicographic sorted order."
   ]
  },
  {
   "cell_type": "code",
   "execution_count": 3,
   "metadata": {},
   "outputs": [
    {
     "name": "stdout",
     "output_type": "stream",
     "text": [
      "ceh\n",
      "cek\n",
      "che\n",
      "chk\n",
      "cke\n",
      "ckh\n",
      "ech\n",
      "eck\n",
      "ehc\n",
      "ehk\n",
      "ekc\n",
      "ekh\n",
      "hce\n",
      "hck\n",
      "hec\n",
      "hek\n",
      "hkc\n",
      "hke\n",
      "kce\n",
      "kch\n",
      "kec\n",
      "keh\n",
      "khc\n",
      "khe\n"
     ]
    }
   ],
   "source": [
    "from itertools import permutations\n",
    "def kperms(s, k):\n",
    "    perms = list(permutations(s, k))\n",
    "    perms.sort()\n",
    "    for perm in perms:\n",
    "        word = \"\"\n",
    "        for i in perm:\n",
    "            word += i\n",
    "        print(word)\n",
    "\n",
    "kperms('heck', 3)"
   ]
  },
  {
   "cell_type": "code",
   "execution_count": null,
   "metadata": {},
   "outputs": [],
   "source": []
  },
  {
   "cell_type": "markdown",
   "metadata": {},
   "source": [
    "[Submit Solution To Hacker Rank](https://www.hackerrank.com/challenges/itertools-permutations/submissions)"
   ]
  },
  {
   "cell_type": "markdown",
   "metadata": {},
   "source": [
    "## Exercise 3 \n",
    "\n",
    "This tool returns ***r*** length subsequences of elements from the input iterable allowing individual elements to be repeated more than once.\n",
    "\n",
    "Combinations are emitted in lexicographic sorted order. So, if the input iterable is sorted, the combination tuples will be produced in sorted order. [See Hacker Rank Problem](https://www.hackerrank.com/challenges/itertools-combinations-with-replacement/problem)"
   ]
  },
  {
   "cell_type": "raw",
   "metadata": {},
   "source": [
    "itertools.combinations_with_replacement(iterable, r)"
   ]
  },
  {
   "cell_type": "markdown",
   "metadata": {},
   "source": [
    "**Sample Code**"
   ]
  },
  {
   "cell_type": "raw",
   "metadata": {},
   "source": [
    "# >>> from itertools import combinations_with_replacement\n",
    ">>> \n",
    ">>> print list(combinations_with_replacement('12345',2))\n",
    "[('1', '1'), ('1', '2'), ('1', '3'), ('1', '4'), ('1', '5'), ('2', '2'), ('2', '3'), ('2', '4'), ('2', '5'), ('3', '3'), ('3', '4'), ('3', '5'), ('4', '4'), ('4', '5'), ('5', '5')]\n",
    ">>> \n",
    ">>> A = [1,1,3,3,3]\n",
    ">>> print list(combinations(A,2))\n",
    "[(1, 1), (1, 3), (1, 3), (1, 3), (1, 3), (1, 3), (1, 3), (3, 3), (3, 3), (3, 3)]"
   ]
  },
  {
   "cell_type": "markdown",
   "metadata": {},
   "source": [
    "**Task**"
   ]
  },
  {
   "cell_type": "markdown",
   "metadata": {},
   "source": [
    "You are given a string ***S***.  \n",
    "\n",
    "Your task is to print all possible size ***k*** replacement combinations of the string in lexicographic sorted order."
   ]
  },
  {
   "cell_type": "markdown",
   "metadata": {},
   "source": [
    "**Input Format**"
   ]
  },
  {
   "cell_type": "markdown",
   "metadata": {},
   "source": [
    "A single line containing the string ***S*** and integer value ***k*** separated by a space."
   ]
  },
  {
   "cell_type": "markdown",
   "metadata": {},
   "source": [
    "**Constraints**"
   ]
  },
  {
   "cell_type": "raw",
   "metadata": {},
   "source": [
    "0 < k ≤ len(S)"
   ]
  },
  {
   "cell_type": "markdown",
   "metadata": {},
   "source": [
    "The string contains only UPPERCASE characters."
   ]
  },
  {
   "cell_type": "markdown",
   "metadata": {},
   "source": [
    "**Output Format**"
   ]
  },
  {
   "cell_type": "markdown",
   "metadata": {},
   "source": [
    "Print the combinations with their replacements of string ***S*** on separate lines."
   ]
  },
  {
   "cell_type": "markdown",
   "metadata": {},
   "source": [
    "**Sample Input**"
   ]
  },
  {
   "cell_type": "raw",
   "metadata": {},
   "source": [
    "HACK 2"
   ]
  },
  {
   "cell_type": "markdown",
   "metadata": {},
   "source": [
    "**Sample Output**"
   ]
  },
  {
   "cell_type": "raw",
   "metadata": {},
   "source": [
    "AA\n",
    "AC\n",
    "AH\n",
    "AK\n",
    "CC\n",
    "CH\n",
    "CK\n",
    "HH\n",
    "HK\n",
    "KK"
   ]
  },
  {
   "cell_type": "code",
   "execution_count": 4,
   "metadata": {},
   "outputs": [
    {
     "name": "stdout",
     "output_type": "stream",
     "text": [
      "aaa\n",
      "aaa\n",
      "aaa\n",
      "aaa\n",
      "aah\n",
      "aah\n",
      "aah\n",
      "aai\n",
      "aai\n",
      "aai\n",
      "aas\n",
      "aas\n",
      "aas\n",
      "aat\n",
      "ahh\n",
      "ahh\n",
      "ahi\n",
      "ahi\n",
      "aii\n",
      "aii\n",
      "ash\n",
      "ash\n",
      "asi\n",
      "asi\n",
      "ass\n",
      "ass\n",
      "ata\n",
      "ath\n",
      "ati\n",
      "ats\n",
      "att\n",
      "hhh\n",
      "hhi\n",
      "hii\n",
      "iii\n",
      "shh\n",
      "shi\n",
      "sii\n",
      "ssh\n",
      "ssi\n",
      "sss\n",
      "taa\n",
      "tah\n",
      "tai\n",
      "tas\n",
      "thh\n",
      "thi\n",
      "tii\n",
      "tsh\n",
      "tsi\n",
      "tss\n",
      "tta\n",
      "tth\n",
      "tti\n",
      "tts\n",
      "ttt\n",
      "waa\n",
      "waa\n",
      "waa\n",
      "wah\n",
      "wah\n",
      "wai\n",
      "wai\n",
      "was\n",
      "was\n",
      "wat\n",
      "whh\n",
      "whi\n",
      "wii\n",
      "wsh\n",
      "wsi\n",
      "wss\n",
      "wta\n",
      "wth\n",
      "wti\n",
      "wts\n",
      "wtt\n",
      "wwa\n",
      "wwa\n",
      "wwh\n",
      "wwi\n",
      "wws\n",
      "wwt\n",
      "www\n",
      "None\n"
     ]
    }
   ],
   "source": [
    "from itertools import combinations_with_replacement as c_r\n",
    "def crfunc(s, k):\n",
    "    combos = list(c_r(s, k))\n",
    "    combos.sort()\n",
    "    for combo in combos:\n",
    "        word = \"\"\n",
    "        for i in combo:\n",
    "            word += i\n",
    "        print(word)\n",
    "    \n",
    "print(crfunc('watashi', 3))"
   ]
  },
  {
   "cell_type": "markdown",
   "metadata": {},
   "source": [
    "[Submit Solution To Hacker Rank](https://www.hackerrank.com/challenges/itertools-combinations-with-replacement/submissions)"
   ]
  },
  {
   "cell_type": "markdown",
   "metadata": {},
   "source": [
    "## Submissions\n",
    "\n",
    "Take three screenshots showing your completed solution to each exercise and upload those images as your submission.  [Submit your screenshots/files here](https://titus.techtalentsouth.com/mod/assign/view.php?id=44991)"
   ]
  },
  {
   "cell_type": "markdown",
   "metadata": {},
   "source": [
    "- - -\n",
    "## Extra Points"
   ]
  },
  {
   "cell_type": "markdown",
   "metadata": {},
   "source": [
    "1. Optional Exercise (Extra Points).  Using a list comprehension, create a new list called \"newlist\" out of the list \"numbers\", which contains only the positive numbers from the list, as integers."
   ]
  },
  {
   "cell_type": "code",
   "execution_count": 6,
   "metadata": {},
   "outputs": [
    {
     "name": "stdout",
     "output_type": "stream",
     "text": [
      "[-10, -10, -3, -3, 10, -8, -9, -7, -1, 2, 6, -8, -10, -4, 6, -7, -8, 1, -10, -5]\n",
      "[10, 2, 6, 6, 1]\n"
     ]
    }
   ],
   "source": [
    "import random\n",
    "random.seed()\n",
    "numbers = [random.randint(-10,10) for i in range(20)]\n",
    "newlist = [i for i in numbers if i > 0]\n",
    "print(numbers)\n",
    "print(newlist)"
   ]
  },
  {
   "cell_type": "markdown",
   "metadata": {},
   "source": [
    "- - - \n",
    "<!--NAVIGATION-->\n",
    "Module 5. | [Iterators](./01_iterators.ipynb) | [List Comprehension](./02_list_comprehension.ipynb) | [Generators](./03_generators.ipynb) | **[Exercises](./04_list_exercises.ipynb)**\n",
    "<br>\n",
    "[Top](#)"
   ]
  },
  {
   "cell_type": "markdown",
   "metadata": {},
   "source": [
    "- - -\n",
    "\n",
    "Copyright © 2020 Qualex Consulting Services Incorporated."
   ]
  }
 ],
 "metadata": {
  "kernelspec": {
   "display_name": "Python 3",
   "language": "python",
   "name": "python3"
  },
  "language_info": {
   "codemirror_mode": {
    "name": "ipython",
    "version": 3
   },
   "file_extension": ".py",
   "mimetype": "text/x-python",
   "name": "python",
   "nbconvert_exporter": "python",
   "pygments_lexer": "ipython3",
   "version": "3.8.8"
  }
 },
 "nbformat": 4,
 "nbformat_minor": 4
}
